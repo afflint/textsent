{
 "cells": [
  {
   "cell_type": "code",
   "execution_count": 1,
   "metadata": {},
   "outputs": [
    {
     "name": "stderr",
     "output_type": "stream",
     "text": [
      "Using TensorFlow backend.\n"
     ]
    }
   ],
   "source": [
    "import pickle\n",
    "import numpy as np\n",
    "import pandas as pd\n",
    "from keras.models import model_from_json\n",
    "from collections import defaultdict\n",
    "from tqdm import tqdm_notebook"
   ]
  },
  {
   "cell_type": "markdown",
   "metadata": {},
   "source": [
    "## Load trained models and data"
   ]
  },
  {
   "cell_type": "code",
   "execution_count": 2,
   "metadata": {},
   "outputs": [],
   "source": [
    "with open('../data/yelp_classification_training.pkl', 'rb') as out:\n",
    "    training = pickle.load(out)"
   ]
  },
  {
   "cell_type": "code",
   "execution_count": 3,
   "metadata": {},
   "outputs": [],
   "source": [
    "with open('../data/yelp_classification_experiments.pkl', 'rb') as out:\n",
    "    saved_models = pickle.load(out)"
   ]
  },
  {
   "cell_type": "code",
   "execution_count": 4,
   "metadata": {},
   "outputs": [],
   "source": [
    "experiments = {}\n",
    "for k, v in saved_models.items():\n",
    "    s = {}\n",
    "    for model_name, model in v.items():\n",
    "        if model_name == 'DNN':\n",
    "            m = model_from_json(model)\n",
    "            m.load_weights(\"../data/{}_{}.h5\".format(k, model_name))\n",
    "            s[model_name] = m\n",
    "        else:\n",
    "            s[model_name] = model\n",
    "    experiments[k] = s"
   ]
  },
  {
   "cell_type": "markdown",
   "metadata": {},
   "source": [
    "## Predict and test"
   ]
  },
  {
   "cell_type": "code",
   "execution_count": 5,
   "metadata": {},
   "outputs": [
    {
     "name": "stdout",
     "output_type": "stream",
     "text": [
      "[5 5 5 4 1 5]\n"
     ]
    }
   ],
   "source": [
    "test = 'raw_lemma_tfidf'\n",
    "_, x_test, _, y_test = training[test]\n",
    "out = experiments[test]['DNN'].predict(x_test)\n",
    "print((out.argmax(axis=1) + 1)[:6])"
   ]
  },
  {
   "cell_type": "markdown",
   "metadata": {},
   "source": [
    "## Example"
   ]
  },
  {
   "cell_type": "code",
   "execution_count": 6,
   "metadata": {},
   "outputs": [
    {
     "name": "stdout",
     "output_type": "stream",
     "text": [
      "TRU [1 5 4 4 1 5]\n",
      "DTC [4 5 1 2 1 5]\n",
      "KNN [1 1 4 4 3 1]\n",
      "DNN [1 5 4 4 1 5]\n"
     ]
    }
   ],
   "source": [
    "for experiment, models in experiments.items():\n",
    "    x_train, x_test, y_train, y_test = training[experiment]\n",
    "    print('TRU', np.array(y_test[:6]))\n",
    "    for model_name, model in models.items():\n",
    "        if model_name == 'DNN':\n",
    "            y_pred = model.predict(x_test).argmax(axis=1) + 1\n",
    "        else:\n",
    "            y_pred = model.predict(x_test)\n",
    "        print(model_name, y_pred[:6])\n",
    "    break"
   ]
  },
  {
   "cell_type": "markdown",
   "metadata": {},
   "source": [
    "## Get precision and recall"
   ]
  },
  {
   "cell_type": "code",
   "execution_count": 7,
   "metadata": {},
   "outputs": [],
   "source": [
    "from sklearn.metrics import precision_recall_fscore_support as prfs"
   ]
  },
  {
   "cell_type": "markdown",
   "metadata": {},
   "source": [
    "### Example"
   ]
  },
  {
   "cell_type": "code",
   "execution_count": 8,
   "metadata": {},
   "outputs": [],
   "source": [
    "test = 'raw_lemma_tfidf'\n",
    "_, x_test, _, y_test = training[test]\n",
    "y_pred = experiments[test]['DTC'].predict(x_test)"
   ]
  },
  {
   "cell_type": "code",
   "execution_count": 9,
   "metadata": {},
   "outputs": [
    {
     "data": {
      "text/plain": [
       "(array([0.2892562 , 0.23157895, 0.13761468, 0.33076923, 0.54457831]),\n",
       " array([0.31531532, 0.20952381, 0.13636364, 0.33076923, 0.54589372]),\n",
       " array([0.30172414, 0.22      , 0.1369863 , 0.33076923, 0.54523522]),\n",
       " array([111, 105, 110, 260, 414]))"
      ]
     },
     "execution_count": 9,
     "metadata": {},
     "output_type": "execute_result"
    }
   ],
   "source": [
    "prfs(y_test, y_pred, zero_division=0)"
   ]
  },
  {
   "cell_type": "code",
   "execution_count": 10,
   "metadata": {},
   "outputs": [
    {
     "name": "stderr",
     "output_type": "stream",
     "text": [
      "/home/nick/anaconda3/lib/python3.7/site-packages/ipykernel_launcher.py:4: TqdmDeprecationWarning: This function will be removed in tqdm==5.0.0\n",
      "Please use `tqdm.notebook.tqdm` instead of `tqdm.tqdm_notebook`\n",
      "  after removing the cwd from sys.path.\n"
     ]
    },
    {
     "data": {
      "application/vnd.jupyter.widget-view+json": {
       "model_id": "ebb47fc4f58d435da13f76e7f9e7bef4",
       "version_major": 2,
       "version_minor": 0
      },
      "text/plain": [
       "HBox(children=(FloatProgress(value=0.0, max=18.0), HTML(value='')))"
      ]
     },
     "metadata": {},
     "output_type": "display_data"
    },
    {
     "name": "stdout",
     "output_type": "stream",
     "text": [
      "\n"
     ]
    }
   ],
   "source": [
    "W = []\n",
    "P = {}\n",
    "measures = ['precision', 'recall', 'fscore', 'support']\n",
    "exp = tqdm_notebook(experiments.items())\n",
    "for experiment, models in exp:\n",
    "    x_train, x_test, y_train, y_test = training[experiment]\n",
    "    predictions = {}\n",
    "    for model_name, model in models.items():\n",
    "        if model_name == 'DNN':\n",
    "            y_pred = model.predict(x_test).argmax(axis=1) + 1\n",
    "        else:\n",
    "            y_pred = model.predict(x_test)\n",
    "        predictions[model_name] = (y_test, y_pred)\n",
    "        scores = prfs(y_test, y_pred, zero_division=0)\n",
    "        for j in range(5):\n",
    "            O = {}\n",
    "            O['experiment'] = experiment\n",
    "            O['model'] = model_name\n",
    "            O['class'] = j + 1\n",
    "            for i, s in enumerate(measures):\n",
    "                O[s] = scores[i][j]\n",
    "            W.append(O)\n",
    "    P[experiment] = predictions"
   ]
  },
  {
   "cell_type": "code",
   "execution_count": 11,
   "metadata": {},
   "outputs": [],
   "source": [
    "K = pd.DataFrame(W)"
   ]
  },
  {
   "cell_type": "code",
   "execution_count": 12,
   "metadata": {},
   "outputs": [
    {
     "data": {
      "text/html": [
       "<div>\n",
       "<style scoped>\n",
       "    .dataframe tbody tr th:only-of-type {\n",
       "        vertical-align: middle;\n",
       "    }\n",
       "\n",
       "    .dataframe tbody tr th {\n",
       "        vertical-align: top;\n",
       "    }\n",
       "\n",
       "    .dataframe thead th {\n",
       "        text-align: right;\n",
       "    }\n",
       "</style>\n",
       "<table border=\"1\" class=\"dataframe\">\n",
       "  <thead>\n",
       "    <tr style=\"text-align: right;\">\n",
       "      <th></th>\n",
       "      <th>experiment</th>\n",
       "      <th>model</th>\n",
       "      <th>class</th>\n",
       "      <th>precision</th>\n",
       "      <th>recall</th>\n",
       "      <th>fscore</th>\n",
       "      <th>support</th>\n",
       "    </tr>\n",
       "  </thead>\n",
       "  <tbody>\n",
       "    <tr>\n",
       "      <th>0</th>\n",
       "      <td>raw_text_tfidf</td>\n",
       "      <td>DTC</td>\n",
       "      <td>1</td>\n",
       "      <td>0.319588</td>\n",
       "      <td>0.258333</td>\n",
       "      <td>0.285714</td>\n",
       "      <td>120</td>\n",
       "    </tr>\n",
       "    <tr>\n",
       "      <th>1</th>\n",
       "      <td>raw_text_tfidf</td>\n",
       "      <td>DTC</td>\n",
       "      <td>2</td>\n",
       "      <td>0.191489</td>\n",
       "      <td>0.206897</td>\n",
       "      <td>0.198895</td>\n",
       "      <td>87</td>\n",
       "    </tr>\n",
       "    <tr>\n",
       "      <th>2</th>\n",
       "      <td>raw_text_tfidf</td>\n",
       "      <td>DTC</td>\n",
       "      <td>3</td>\n",
       "      <td>0.183206</td>\n",
       "      <td>0.208696</td>\n",
       "      <td>0.195122</td>\n",
       "      <td>115</td>\n",
       "    </tr>\n",
       "    <tr>\n",
       "      <th>3</th>\n",
       "      <td>raw_text_tfidf</td>\n",
       "      <td>DTC</td>\n",
       "      <td>4</td>\n",
       "      <td>0.326531</td>\n",
       "      <td>0.325203</td>\n",
       "      <td>0.325866</td>\n",
       "      <td>246</td>\n",
       "    </tr>\n",
       "    <tr>\n",
       "      <th>4</th>\n",
       "      <td>raw_text_tfidf</td>\n",
       "      <td>DTC</td>\n",
       "      <td>5</td>\n",
       "      <td>0.579677</td>\n",
       "      <td>0.581019</td>\n",
       "      <td>0.580347</td>\n",
       "      <td>432</td>\n",
       "    </tr>\n",
       "  </tbody>\n",
       "</table>\n",
       "</div>"
      ],
      "text/plain": [
       "       experiment model  class  precision    recall    fscore  support\n",
       "0  raw_text_tfidf   DTC      1   0.319588  0.258333  0.285714      120\n",
       "1  raw_text_tfidf   DTC      2   0.191489  0.206897  0.198895       87\n",
       "2  raw_text_tfidf   DTC      3   0.183206  0.208696  0.195122      115\n",
       "3  raw_text_tfidf   DTC      4   0.326531  0.325203  0.325866      246\n",
       "4  raw_text_tfidf   DTC      5   0.579677  0.581019  0.580347      432"
      ]
     },
     "execution_count": 12,
     "metadata": {},
     "output_type": "execute_result"
    }
   ],
   "source": [
    "K.head()"
   ]
  },
  {
   "cell_type": "markdown",
   "metadata": {},
   "source": [
    "## Save"
   ]
  },
  {
   "cell_type": "code",
   "execution_count": 13,
   "metadata": {},
   "outputs": [],
   "source": [
    "K.to_excel('../data/classification_report.xlsx')\n",
    "with open('../data/predictions.pkl', 'wb') as out:\n",
    "    pickle.dump(P, out)"
   ]
  },
  {
   "cell_type": "markdown",
   "metadata": {},
   "source": [
    "## Load"
   ]
  },
  {
   "cell_type": "code",
   "execution_count": 14,
   "metadata": {},
   "outputs": [],
   "source": [
    "with open('../data/predictions.pkl', 'rb') as out:\n",
    "    P = pickle.load(out)\n",
    "R = pd.read_excel('../data/classification_report.xlsx', index_col=0, header=0)"
   ]
  },
  {
   "cell_type": "code",
   "execution_count": 15,
   "metadata": {},
   "outputs": [
    {
     "data": {
      "text/html": [
       "<div>\n",
       "<style scoped>\n",
       "    .dataframe tbody tr th:only-of-type {\n",
       "        vertical-align: middle;\n",
       "    }\n",
       "\n",
       "    .dataframe tbody tr th {\n",
       "        vertical-align: top;\n",
       "    }\n",
       "\n",
       "    .dataframe thead th {\n",
       "        text-align: right;\n",
       "    }\n",
       "</style>\n",
       "<table border=\"1\" class=\"dataframe\">\n",
       "  <thead>\n",
       "    <tr style=\"text-align: right;\">\n",
       "      <th></th>\n",
       "      <th>experiment</th>\n",
       "      <th>model</th>\n",
       "      <th>class</th>\n",
       "      <th>precision</th>\n",
       "      <th>recall</th>\n",
       "      <th>fscore</th>\n",
       "      <th>support</th>\n",
       "    </tr>\n",
       "  </thead>\n",
       "  <tbody>\n",
       "    <tr>\n",
       "      <th>0</th>\n",
       "      <td>raw_text_tfidf</td>\n",
       "      <td>DTC</td>\n",
       "      <td>1</td>\n",
       "      <td>0.319588</td>\n",
       "      <td>0.258333</td>\n",
       "      <td>0.285714</td>\n",
       "      <td>120</td>\n",
       "    </tr>\n",
       "    <tr>\n",
       "      <th>1</th>\n",
       "      <td>raw_text_tfidf</td>\n",
       "      <td>DTC</td>\n",
       "      <td>2</td>\n",
       "      <td>0.191489</td>\n",
       "      <td>0.206897</td>\n",
       "      <td>0.198895</td>\n",
       "      <td>87</td>\n",
       "    </tr>\n",
       "    <tr>\n",
       "      <th>2</th>\n",
       "      <td>raw_text_tfidf</td>\n",
       "      <td>DTC</td>\n",
       "      <td>3</td>\n",
       "      <td>0.183206</td>\n",
       "      <td>0.208696</td>\n",
       "      <td>0.195122</td>\n",
       "      <td>115</td>\n",
       "    </tr>\n",
       "    <tr>\n",
       "      <th>3</th>\n",
       "      <td>raw_text_tfidf</td>\n",
       "      <td>DTC</td>\n",
       "      <td>4</td>\n",
       "      <td>0.326531</td>\n",
       "      <td>0.325203</td>\n",
       "      <td>0.325866</td>\n",
       "      <td>246</td>\n",
       "    </tr>\n",
       "    <tr>\n",
       "      <th>4</th>\n",
       "      <td>raw_text_tfidf</td>\n",
       "      <td>DTC</td>\n",
       "      <td>5</td>\n",
       "      <td>0.579677</td>\n",
       "      <td>0.581019</td>\n",
       "      <td>0.580347</td>\n",
       "      <td>432</td>\n",
       "    </tr>\n",
       "  </tbody>\n",
       "</table>\n",
       "</div>"
      ],
      "text/plain": [
       "       experiment model  class  precision    recall    fscore  support\n",
       "0  raw_text_tfidf   DTC      1   0.319588  0.258333  0.285714      120\n",
       "1  raw_text_tfidf   DTC      2   0.191489  0.206897  0.198895       87\n",
       "2  raw_text_tfidf   DTC      3   0.183206  0.208696  0.195122      115\n",
       "3  raw_text_tfidf   DTC      4   0.326531  0.325203  0.325866      246\n",
       "4  raw_text_tfidf   DTC      5   0.579677  0.581019  0.580347      432"
      ]
     },
     "execution_count": 15,
     "metadata": {},
     "output_type": "execute_result"
    }
   ],
   "source": [
    "R.head()"
   ]
  },
  {
   "cell_type": "code",
   "execution_count": 16,
   "metadata": {},
   "outputs": [
    {
     "data": {
      "text/html": [
       "<div>\n",
       "<style scoped>\n",
       "    .dataframe tbody tr th:only-of-type {\n",
       "        vertical-align: middle;\n",
       "    }\n",
       "\n",
       "    .dataframe tbody tr th {\n",
       "        vertical-align: top;\n",
       "    }\n",
       "\n",
       "    .dataframe thead th {\n",
       "        text-align: right;\n",
       "    }\n",
       "</style>\n",
       "<table border=\"1\" class=\"dataframe\">\n",
       "  <thead>\n",
       "    <tr style=\"text-align: right;\">\n",
       "      <th></th>\n",
       "      <th>experiment</th>\n",
       "      <th>model</th>\n",
       "      <th>class</th>\n",
       "      <th>precision</th>\n",
       "      <th>recall</th>\n",
       "      <th>fscore</th>\n",
       "      <th>support</th>\n",
       "    </tr>\n",
       "  </thead>\n",
       "  <tbody>\n",
       "    <tr>\n",
       "      <th>135</th>\n",
       "      <td>pos_lemma_sentiwn</td>\n",
       "      <td>DTC</td>\n",
       "      <td>1</td>\n",
       "      <td>0.228571</td>\n",
       "      <td>0.228571</td>\n",
       "      <td>0.228571</td>\n",
       "      <td>105</td>\n",
       "    </tr>\n",
       "    <tr>\n",
       "      <th>140</th>\n",
       "      <td>pos_lemma_sentiwn</td>\n",
       "      <td>KNN</td>\n",
       "      <td>1</td>\n",
       "      <td>0.375000</td>\n",
       "      <td>0.457143</td>\n",
       "      <td>0.412017</td>\n",
       "      <td>105</td>\n",
       "    </tr>\n",
       "    <tr>\n",
       "      <th>145</th>\n",
       "      <td>pos_lemma_sentiwn</td>\n",
       "      <td>DNN</td>\n",
       "      <td>1</td>\n",
       "      <td>0.500000</td>\n",
       "      <td>0.380952</td>\n",
       "      <td>0.432432</td>\n",
       "      <td>105</td>\n",
       "    </tr>\n",
       "  </tbody>\n",
       "</table>\n",
       "</div>"
      ],
      "text/plain": [
       "            experiment model  class  precision    recall    fscore  support\n",
       "135  pos_lemma_sentiwn   DTC      1   0.228571  0.228571  0.228571      105\n",
       "140  pos_lemma_sentiwn   KNN      1   0.375000  0.457143  0.412017      105\n",
       "145  pos_lemma_sentiwn   DNN      1   0.500000  0.380952  0.432432      105"
      ]
     },
     "execution_count": 16,
     "metadata": {},
     "output_type": "execute_result"
    }
   ],
   "source": [
    "R[(R.experiment == 'pos_lemma_sentiwn') & (R['class'] == 1)]"
   ]
  },
  {
   "cell_type": "code",
   "execution_count": 17,
   "metadata": {},
   "outputs": [
    {
     "data": {
      "text/html": [
       "<div>\n",
       "<style scoped>\n",
       "    .dataframe tbody tr th:only-of-type {\n",
       "        vertical-align: middle;\n",
       "    }\n",
       "\n",
       "    .dataframe tbody tr th {\n",
       "        vertical-align: top;\n",
       "    }\n",
       "\n",
       "    .dataframe thead th {\n",
       "        text-align: right;\n",
       "    }\n",
       "</style>\n",
       "<table border=\"1\" class=\"dataframe\">\n",
       "  <thead>\n",
       "    <tr style=\"text-align: right;\">\n",
       "      <th></th>\n",
       "      <th>experiment</th>\n",
       "      <th>model</th>\n",
       "      <th>class</th>\n",
       "      <th>precision</th>\n",
       "      <th>recall</th>\n",
       "      <th>fscore</th>\n",
       "      <th>support</th>\n",
       "    </tr>\n",
       "  </thead>\n",
       "  <tbody>\n",
       "    <tr>\n",
       "      <th>14</th>\n",
       "      <td>raw_text_tfidf</td>\n",
       "      <td>DNN</td>\n",
       "      <td>5</td>\n",
       "      <td>0.738776</td>\n",
       "      <td>0.837963</td>\n",
       "      <td>0.785249</td>\n",
       "      <td>432</td>\n",
       "    </tr>\n",
       "    <tr>\n",
       "      <th>29</th>\n",
       "      <td>raw_lemma_tfidf</td>\n",
       "      <td>DNN</td>\n",
       "      <td>5</td>\n",
       "      <td>0.686391</td>\n",
       "      <td>0.840580</td>\n",
       "      <td>0.755700</td>\n",
       "      <td>414</td>\n",
       "    </tr>\n",
       "    <tr>\n",
       "      <th>44</th>\n",
       "      <td>pos_text_tfidf</td>\n",
       "      <td>DNN</td>\n",
       "      <td>5</td>\n",
       "      <td>0.617769</td>\n",
       "      <td>0.776623</td>\n",
       "      <td>0.688147</td>\n",
       "      <td>385</td>\n",
       "    </tr>\n",
       "    <tr>\n",
       "      <th>59</th>\n",
       "      <td>pos_lemma_tfidf</td>\n",
       "      <td>DNN</td>\n",
       "      <td>5</td>\n",
       "      <td>0.565943</td>\n",
       "      <td>0.856061</td>\n",
       "      <td>0.681407</td>\n",
       "      <td>396</td>\n",
       "    </tr>\n",
       "    <tr>\n",
       "      <th>74</th>\n",
       "      <td>dep_text_tfidf</td>\n",
       "      <td>DNN</td>\n",
       "      <td>5</td>\n",
       "      <td>0.584348</td>\n",
       "      <td>0.807692</td>\n",
       "      <td>0.678103</td>\n",
       "      <td>416</td>\n",
       "    </tr>\n",
       "    <tr>\n",
       "      <th>89</th>\n",
       "      <td>dep_lemma_tfidf</td>\n",
       "      <td>DNN</td>\n",
       "      <td>5</td>\n",
       "      <td>0.563272</td>\n",
       "      <td>0.877404</td>\n",
       "      <td>0.686090</td>\n",
       "      <td>416</td>\n",
       "    </tr>\n",
       "    <tr>\n",
       "      <th>104</th>\n",
       "      <td>raw_text_sentiwn</td>\n",
       "      <td>DNN</td>\n",
       "      <td>5</td>\n",
       "      <td>0.660617</td>\n",
       "      <td>0.842593</td>\n",
       "      <td>0.740590</td>\n",
       "      <td>432</td>\n",
       "    </tr>\n",
       "    <tr>\n",
       "      <th>119</th>\n",
       "      <td>raw_lemma_sentiwn</td>\n",
       "      <td>DNN</td>\n",
       "      <td>5</td>\n",
       "      <td>0.616838</td>\n",
       "      <td>0.867150</td>\n",
       "      <td>0.720884</td>\n",
       "      <td>414</td>\n",
       "    </tr>\n",
       "    <tr>\n",
       "      <th>134</th>\n",
       "      <td>pos_text_sentiwn</td>\n",
       "      <td>DNN</td>\n",
       "      <td>5</td>\n",
       "      <td>0.510802</td>\n",
       "      <td>0.859740</td>\n",
       "      <td>0.640852</td>\n",
       "      <td>385</td>\n",
       "    </tr>\n",
       "    <tr>\n",
       "      <th>149</th>\n",
       "      <td>pos_lemma_sentiwn</td>\n",
       "      <td>DNN</td>\n",
       "      <td>5</td>\n",
       "      <td>0.499274</td>\n",
       "      <td>0.868687</td>\n",
       "      <td>0.634101</td>\n",
       "      <td>396</td>\n",
       "    </tr>\n",
       "    <tr>\n",
       "      <th>164</th>\n",
       "      <td>dep_text_sentiwn</td>\n",
       "      <td>DNN</td>\n",
       "      <td>5</td>\n",
       "      <td>0.525849</td>\n",
       "      <td>0.855769</td>\n",
       "      <td>0.651418</td>\n",
       "      <td>416</td>\n",
       "    </tr>\n",
       "    <tr>\n",
       "      <th>179</th>\n",
       "      <td>dep_lemma_sentiwn</td>\n",
       "      <td>DNN</td>\n",
       "      <td>5</td>\n",
       "      <td>0.538350</td>\n",
       "      <td>0.894231</td>\n",
       "      <td>0.672087</td>\n",
       "      <td>416</td>\n",
       "    </tr>\n",
       "    <tr>\n",
       "      <th>194</th>\n",
       "      <td>raw_text_combo</td>\n",
       "      <td>DNN</td>\n",
       "      <td>5</td>\n",
       "      <td>0.570597</td>\n",
       "      <td>0.907407</td>\n",
       "      <td>0.700626</td>\n",
       "      <td>432</td>\n",
       "    </tr>\n",
       "    <tr>\n",
       "      <th>209</th>\n",
       "      <td>raw_lemma_combo</td>\n",
       "      <td>DNN</td>\n",
       "      <td>5</td>\n",
       "      <td>0.520661</td>\n",
       "      <td>0.913043</td>\n",
       "      <td>0.663158</td>\n",
       "      <td>414</td>\n",
       "    </tr>\n",
       "    <tr>\n",
       "      <th>224</th>\n",
       "      <td>pos_text_combo</td>\n",
       "      <td>DNN</td>\n",
       "      <td>5</td>\n",
       "      <td>0.427746</td>\n",
       "      <td>0.961039</td>\n",
       "      <td>0.592000</td>\n",
       "      <td>385</td>\n",
       "    </tr>\n",
       "    <tr>\n",
       "      <th>239</th>\n",
       "      <td>pos_lemma_combo</td>\n",
       "      <td>DNN</td>\n",
       "      <td>5</td>\n",
       "      <td>0.421281</td>\n",
       "      <td>0.979798</td>\n",
       "      <td>0.589218</td>\n",
       "      <td>396</td>\n",
       "    </tr>\n",
       "    <tr>\n",
       "      <th>254</th>\n",
       "      <td>dep_text_combo</td>\n",
       "      <td>DNN</td>\n",
       "      <td>5</td>\n",
       "      <td>0.485751</td>\n",
       "      <td>0.901442</td>\n",
       "      <td>0.631313</td>\n",
       "      <td>416</td>\n",
       "    </tr>\n",
       "    <tr>\n",
       "      <th>269</th>\n",
       "      <td>dep_lemma_combo</td>\n",
       "      <td>DNN</td>\n",
       "      <td>5</td>\n",
       "      <td>0.478528</td>\n",
       "      <td>0.937500</td>\n",
       "      <td>0.633631</td>\n",
       "      <td>416</td>\n",
       "    </tr>\n",
       "  </tbody>\n",
       "</table>\n",
       "</div>"
      ],
      "text/plain": [
       "            experiment model  class  precision    recall    fscore  support\n",
       "14      raw_text_tfidf   DNN      5   0.738776  0.837963  0.785249      432\n",
       "29     raw_lemma_tfidf   DNN      5   0.686391  0.840580  0.755700      414\n",
       "44      pos_text_tfidf   DNN      5   0.617769  0.776623  0.688147      385\n",
       "59     pos_lemma_tfidf   DNN      5   0.565943  0.856061  0.681407      396\n",
       "74      dep_text_tfidf   DNN      5   0.584348  0.807692  0.678103      416\n",
       "89     dep_lemma_tfidf   DNN      5   0.563272  0.877404  0.686090      416\n",
       "104   raw_text_sentiwn   DNN      5   0.660617  0.842593  0.740590      432\n",
       "119  raw_lemma_sentiwn   DNN      5   0.616838  0.867150  0.720884      414\n",
       "134   pos_text_sentiwn   DNN      5   0.510802  0.859740  0.640852      385\n",
       "149  pos_lemma_sentiwn   DNN      5   0.499274  0.868687  0.634101      396\n",
       "164   dep_text_sentiwn   DNN      5   0.525849  0.855769  0.651418      416\n",
       "179  dep_lemma_sentiwn   DNN      5   0.538350  0.894231  0.672087      416\n",
       "194     raw_text_combo   DNN      5   0.570597  0.907407  0.700626      432\n",
       "209    raw_lemma_combo   DNN      5   0.520661  0.913043  0.663158      414\n",
       "224     pos_text_combo   DNN      5   0.427746  0.961039  0.592000      385\n",
       "239    pos_lemma_combo   DNN      5   0.421281  0.979798  0.589218      396\n",
       "254     dep_text_combo   DNN      5   0.485751  0.901442  0.631313      416\n",
       "269    dep_lemma_combo   DNN      5   0.478528  0.937500  0.633631      416"
      ]
     },
     "execution_count": 17,
     "metadata": {},
     "output_type": "execute_result"
    }
   ],
   "source": [
    "R[(R.model == 'DNN') & (R['class'] == 5)]"
   ]
  },
  {
   "cell_type": "code",
   "execution_count": 18,
   "metadata": {},
   "outputs": [],
   "source": [
    "from sklearn.metrics import confusion_matrix, ConfusionMatrixDisplay\n",
    "import matplotlib.pyplot as plt"
   ]
  },
  {
   "cell_type": "code",
   "execution_count": 19,
   "metadata": {},
   "outputs": [],
   "source": [
    "def cm(experiment, classifier, predictions):\n",
    "    yt, yp = predictions[experiment][classifier]\n",
    "    return ConfusionMatrixDisplay(confusion_matrix(yt, yp), display_labels=range(1,6))"
   ]
  },
  {
   "cell_type": "code",
   "execution_count": 20,
   "metadata": {},
   "outputs": [],
   "source": [
    "c = cm('raw_text_sentiwn', 'DNN', P)"
   ]
  },
  {
   "cell_type": "code",
   "execution_count": 21,
   "metadata": {},
   "outputs": [
    {
     "data": {
      "image/png": "[encoded data removed]",
      "text/plain": [
       "<Figure size 432x288 with 2 Axes>"
      ]
     },
     "metadata": {
      "needs_background": "light"
     },
     "output_type": "display_data"
    }
   ],
   "source": [
    "c.plot(values_format=\".0f\", cmap='Blues')\n",
    "plt.show()"
   ]
  },
  {
   "cell_type": "markdown",
   "metadata": {},
   "source": [
    "## Check on polarity"
   ]
  },
  {
   "cell_type": "code",
   "execution_count": 22,
   "metadata": {},
   "outputs": [],
   "source": [
    "polarity = {}\n",
    "for experiment, models in P.items():\n",
    "    polar = {}\n",
    "    for m, (y_true, y_pred) in models.items():\n",
    "        yt, yp = [], []\n",
    "        for x in y_true:\n",
    "            if x > 3:\n",
    "                yt.append(1)\n",
    "            elif x < 3:\n",
    "                yt.append(-1)\n",
    "            else:\n",
    "                yt.append(0)\n",
    "        for x in y_pred:\n",
    "            if x > 3:\n",
    "                yp.append(1)\n",
    "            elif x < 3:\n",
    "                yp.append(-1)\n",
    "            else:\n",
    "                yp.append(0)\n",
    "        polar[m] = (yt, yp)\n",
    "    polarity[experiment] = polar"
   ]
  },
  {
   "cell_type": "code",
   "execution_count": 23,
   "metadata": {},
   "outputs": [],
   "source": [
    "Z = []\n",
    "measures = ['precision', 'recall', 'fscore', 'support']\n",
    "for experiment, models in polarity.items():\n",
    "    for model_name, (y_true, y_pred) in models.items():\n",
    "        scores = prfs(y_true, y_pred, zero_division=0)\n",
    "        for j in range(-1,2):\n",
    "            O = {}\n",
    "            O['experiment'] = experiment\n",
    "            O['model'] = model_name\n",
    "            O['class'] = j\n",
    "            for i, s in enumerate(measures):\n",
    "                O[s] = scores[i][j+1]\n",
    "            Z.append(O)\n",
    "Zp = pd.DataFrame(Z)"
   ]
  },
  {
   "cell_type": "code",
   "execution_count": 24,
   "metadata": {},
   "outputs": [
    {
     "data": {
      "text/html": [
       "<div>\n",
       "<style scoped>\n",
       "    .dataframe tbody tr th:only-of-type {\n",
       "        vertical-align: middle;\n",
       "    }\n",
       "\n",
       "    .dataframe tbody tr th {\n",
       "        vertical-align: top;\n",
       "    }\n",
       "\n",
       "    .dataframe thead th {\n",
       "        text-align: right;\n",
       "    }\n",
       "</style>\n",
       "<table border=\"1\" class=\"dataframe\">\n",
       "  <thead>\n",
       "    <tr style=\"text-align: right;\">\n",
       "      <th></th>\n",
       "      <th>experiment</th>\n",
       "      <th>model</th>\n",
       "      <th>class</th>\n",
       "      <th>precision</th>\n",
       "      <th>recall</th>\n",
       "      <th>fscore</th>\n",
       "      <th>support</th>\n",
       "    </tr>\n",
       "  </thead>\n",
       "  <tbody>\n",
       "    <tr>\n",
       "      <th>0</th>\n",
       "      <td>raw_text_tfidf</td>\n",
       "      <td>DTC</td>\n",
       "      <td>-1</td>\n",
       "      <td>0.424084</td>\n",
       "      <td>0.391304</td>\n",
       "      <td>0.407035</td>\n",
       "      <td>207</td>\n",
       "    </tr>\n",
       "    <tr>\n",
       "      <th>1</th>\n",
       "      <td>raw_text_tfidf</td>\n",
       "      <td>DTC</td>\n",
       "      <td>0</td>\n",
       "      <td>0.183206</td>\n",
       "      <td>0.208696</td>\n",
       "      <td>0.195122</td>\n",
       "      <td>115</td>\n",
       "    </tr>\n",
       "    <tr>\n",
       "      <th>2</th>\n",
       "      <td>raw_text_tfidf</td>\n",
       "      <td>DTC</td>\n",
       "      <td>1</td>\n",
       "      <td>0.778761</td>\n",
       "      <td>0.778761</td>\n",
       "      <td>0.778761</td>\n",
       "      <td>678</td>\n",
       "    </tr>\n",
       "    <tr>\n",
       "      <th>3</th>\n",
       "      <td>raw_text_tfidf</td>\n",
       "      <td>KNN</td>\n",
       "      <td>-1</td>\n",
       "      <td>0.398907</td>\n",
       "      <td>0.705314</td>\n",
       "      <td>0.509599</td>\n",
       "      <td>207</td>\n",
       "    </tr>\n",
       "    <tr>\n",
       "      <th>4</th>\n",
       "      <td>raw_text_tfidf</td>\n",
       "      <td>KNN</td>\n",
       "      <td>0</td>\n",
       "      <td>0.251908</td>\n",
       "      <td>0.286957</td>\n",
       "      <td>0.268293</td>\n",
       "      <td>115</td>\n",
       "    </tr>\n",
       "  </tbody>\n",
       "</table>\n",
       "</div>"
      ],
      "text/plain": [
       "       experiment model  class  precision    recall    fscore  support\n",
       "0  raw_text_tfidf   DTC     -1   0.424084  0.391304  0.407035      207\n",
       "1  raw_text_tfidf   DTC      0   0.183206  0.208696  0.195122      115\n",
       "2  raw_text_tfidf   DTC      1   0.778761  0.778761  0.778761      678\n",
       "3  raw_text_tfidf   KNN     -1   0.398907  0.705314  0.509599      207\n",
       "4  raw_text_tfidf   KNN      0   0.251908  0.286957  0.268293      115"
      ]
     },
     "execution_count": 24,
     "metadata": {},
     "output_type": "execute_result"
    }
   ],
   "source": [
    "Zp.head()"
   ]
  },
  {
   "cell_type": "code",
   "execution_count": 25,
   "metadata": {},
   "outputs": [
    {
     "data": {
      "text/html": [
       "<div>\n",
       "<style scoped>\n",
       "    .dataframe tbody tr th:only-of-type {\n",
       "        vertical-align: middle;\n",
       "    }\n",
       "\n",
       "    .dataframe tbody tr th {\n",
       "        vertical-align: top;\n",
       "    }\n",
       "\n",
       "    .dataframe thead th {\n",
       "        text-align: right;\n",
       "    }\n",
       "</style>\n",
       "<table border=\"1\" class=\"dataframe\">\n",
       "  <thead>\n",
       "    <tr style=\"text-align: right;\">\n",
       "      <th></th>\n",
       "      <th>experiment</th>\n",
       "      <th>model</th>\n",
       "      <th>class</th>\n",
       "      <th>precision</th>\n",
       "      <th>recall</th>\n",
       "      <th>fscore</th>\n",
       "      <th>support</th>\n",
       "    </tr>\n",
       "  </thead>\n",
       "  <tbody>\n",
       "    <tr>\n",
       "      <th>114</th>\n",
       "      <td>raw_text_combo</td>\n",
       "      <td>DNN</td>\n",
       "      <td>-1</td>\n",
       "      <td>0.746835</td>\n",
       "      <td>0.285024</td>\n",
       "      <td>0.412587</td>\n",
       "      <td>207</td>\n",
       "    </tr>\n",
       "    <tr>\n",
       "      <th>115</th>\n",
       "      <td>raw_text_combo</td>\n",
       "      <td>DNN</td>\n",
       "      <td>0</td>\n",
       "      <td>0.363636</td>\n",
       "      <td>0.139130</td>\n",
       "      <td>0.201258</td>\n",
       "      <td>115</td>\n",
       "    </tr>\n",
       "    <tr>\n",
       "      <th>116</th>\n",
       "      <td>raw_text_combo</td>\n",
       "      <td>DNN</td>\n",
       "      <td>1</td>\n",
       "      <td>0.755986</td>\n",
       "      <td>0.977876</td>\n",
       "      <td>0.852733</td>\n",
       "      <td>678</td>\n",
       "    </tr>\n",
       "  </tbody>\n",
       "</table>\n",
       "</div>"
      ],
      "text/plain": [
       "         experiment model  class  precision    recall    fscore  support\n",
       "114  raw_text_combo   DNN     -1   0.746835  0.285024  0.412587      207\n",
       "115  raw_text_combo   DNN      0   0.363636  0.139130  0.201258      115\n",
       "116  raw_text_combo   DNN      1   0.755986  0.977876  0.852733      678"
      ]
     },
     "execution_count": 25,
     "metadata": {},
     "output_type": "execute_result"
    }
   ],
   "source": [
    "Zp[(Zp.model == 'DNN') & (Zp['experiment'] == 'raw_text_combo')]"
   ]
  },
  {
   "cell_type": "code",
   "execution_count": 26,
   "metadata": {},
   "outputs": [],
   "source": [
    "c = cm('raw_text_sentiwn', 'DNN', polarity)"
   ]
  },
  {
   "cell_type": "code",
   "execution_count": 27,
   "metadata": {},
   "outputs": [
    {
     "data": {
      "image/png": "[encoded data removed]",
      "text/plain": [
       "<Figure size 432x288 with 2 Axes>"
      ]
     },
     "metadata": {
      "needs_background": "light"
     },
     "output_type": "display_data"
    }
   ],
   "source": [
    "c.plot(values_format=\".0f\", cmap='Blues')\n",
    "plt.show()"
   ]
  }
 ],
 "metadata": {
  "kernelspec": {
   "display_name": "Python 3",
   "language": "python",
   "name": "python3"
  },
  "language_info": {
   "codemirror_mode": {
    "name": "ipython",
    "version": 3
   },
   "file_extension": ".py",
   "mimetype": "text/x-python",
   "name": "python",
   "nbconvert_exporter": "python",
   "pygments_lexer": "ipython3",
   "version": "3.7.6"
  }
 },
 "nbformat": 4,
 "nbformat_minor": 2
}
