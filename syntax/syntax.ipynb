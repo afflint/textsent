{
 "cells": [
  {
   "cell_type": "markdown",
   "id": "ade0a029",
   "metadata": {},
   "source": [
    "# Explore syntax parsing for detection of opinion holders and targets"
   ]
  },
  {
   "cell_type": "code",
   "execution_count": 6,
   "id": "07857c9c",
   "metadata": {},
   "outputs": [],
   "source": [
    "import pandas as pd\n",
    "import numpy as np\n",
    "from tqdm.notebook import tqdm"
   ]
  },
  {
   "cell_type": "markdown",
   "id": "9b3f96f1",
   "metadata": {},
   "source": []
  },
  {
   "cell_type": "code",
   "execution_count": 5,
   "id": "fc56bc4b",
   "metadata": {},
   "outputs": [],
   "source": [
    "import spacy\n",
    "nlp = spacy.load('en_core_web_lg')"
   ]
  },
  {
   "cell_type": "code",
   "execution_count": 7,
   "id": "2975c18b",
   "metadata": {},
   "outputs": [],
   "source": [
    "import json"
   ]
  },
  {
   "cell_type": "code",
   "execution_count": 8,
   "id": "219ec662",
   "metadata": {},
   "outputs": [],
   "source": [
    "review_data_file = '../lexicon/data/yelp_sample.json'\n",
    "with open(review_data_file, 'r') as infile:\n",
    "    R = json.load(infile)"
   ]
  },
  {
   "cell_type": "code",
   "execution_count": 9,
   "id": "5d1690a9",
   "metadata": {},
   "outputs": [],
   "source": [
    "def spacy_sentences(nlp, text):\n",
    "    sentences = []\n",
    "    for sent in nlp(text).sents:\n",
    "        sentences.append(sent)\n",
    "    return sentences"
   ]
  },
  {
   "cell_type": "code",
   "execution_count": 10,
   "id": "4584bfd0",
   "metadata": {},
   "outputs": [
    {
     "data": {
      "text/plain": [
       "{'content': \"Red, white and bleu salad was super yum and a great addition to the menu! This location was clean with great service and food served at just the right temps! Kids pizza is always a hit too with lots of great side dish options for the kiddos! When I'm on this side of town, this will definitely be a spot I'll hit up again!\",\n",
       " 'date': '2014-02-17',\n",
       " 'stars': 4,\n",
       " 'useful': 1,\n",
       " 'funny': 0,\n",
       " 'cool': 0,\n",
       " 'business': 'Ue6-WhXvI-_1xUIuapl0zQ',\n",
       " 'id': '----X0BIDP9tA49U3RvdSQ',\n",
       " 'categories': ['American (Traditional)', 'Burgers', 'Restaurants']}"
      ]
     },
     "execution_count": 10,
     "metadata": {},
     "output_type": "execute_result"
    }
   ],
   "source": [
    "R[0]"
   ]
  },
  {
   "cell_type": "code",
   "execution_count": 11,
   "id": "c1ba58a0",
   "metadata": {},
   "outputs": [],
   "source": [
    "sample = spacy_sentences(nlp, R[0]['content'])"
   ]
  },
  {
   "cell_type": "code",
   "execution_count": 12,
   "id": "38b603de",
   "metadata": {},
   "outputs": [
    {
     "data": {
      "text/plain": [
       "[Red, white and bleu salad was super yum and a great addition to the menu!,\n",
       " This location was clean with great service and food served at just the right temps!,\n",
       " Kids pizza is always a hit too with lots of great side dish options for the kiddos!,\n",
       " When I'm on this side of town, this will definitely be a spot I'll hit up again!]"
      ]
     },
     "execution_count": 12,
     "metadata": {},
     "output_type": "execute_result"
    }
   ],
   "source": [
    "sample"
   ]
  },
  {
   "cell_type": "code",
   "execution_count": 13,
   "id": "7ee812e1",
   "metadata": {},
   "outputs": [
    {
     "data": {
      "text/plain": [
       "spacy.tokens.span.Span"
      ]
     },
     "execution_count": 13,
     "metadata": {},
     "output_type": "execute_result"
    }
   ],
   "source": [
    "type(sample[0])"
   ]
  },
  {
   "cell_type": "markdown",
   "id": "acc25e2f",
   "metadata": {},
   "source": [
    "## Build a graph of the sentences"
   ]
  },
  {
   "cell_type": "code",
   "execution_count": 16,
   "id": "e8a26a7b",
   "metadata": {},
   "outputs": [],
   "source": [
    "import networkx as nx\n",
    "from spacy.displacy import render"
   ]
  },
  {
   "cell_type": "code",
   "execution_count": 17,
   "id": "ddc89dd0",
   "metadata": {},
   "outputs": [],
   "source": [
    "test = sample[0]"
   ]
  },
  {
   "cell_type": "code",
   "execution_count": 18,
   "id": "8954c7e1",
   "metadata": {},
   "outputs": [
    {
     "data": {
      "text/html": [
       "<span class=\"tex2jax_ignore\"><svg xmlns=\"http://www.w3.org/2000/svg\" xmlns:xlink=\"http://www.w3.org/1999/xlink\" xml:lang=\"en\" id=\"c231fdefb7114ab7a2dfd7f300eee48d-0\" class=\"displacy\" width=\"2675\" height=\"399.5\" direction=\"ltr\" style=\"max-width: none; height: 399.5px; color: #000000; background: #ffffff; font-family: Arial; direction: ltr\">\n",
       "<text class=\"displacy-token\" fill=\"currentColor\" text-anchor=\"middle\" y=\"309.5\">\n",
       "    <tspan class=\"displacy-word\" fill=\"currentColor\" x=\"50\">Red,</tspan>\n",
       "    <tspan class=\"displacy-tag\" dy=\"2em\" fill=\"currentColor\" x=\"50\">ADJ</tspan>\n",
       "</text>\n",
       "\n",
       "<text class=\"displacy-token\" fill=\"currentColor\" text-anchor=\"middle\" y=\"309.5\">\n",
       "    <tspan class=\"displacy-word\" fill=\"currentColor\" x=\"225\">white</tspan>\n",
       "    <tspan class=\"displacy-tag\" dy=\"2em\" fill=\"currentColor\" x=\"225\">ADJ</tspan>\n",
       "</text>\n",
       "\n",
       "<text class=\"displacy-token\" fill=\"currentColor\" text-anchor=\"middle\" y=\"309.5\">\n",
       "    <tspan class=\"displacy-word\" fill=\"currentColor\" x=\"400\">and</tspan>\n",
       "    <tspan class=\"displacy-tag\" dy=\"2em\" fill=\"currentColor\" x=\"400\">CCONJ</tspan>\n",
       "</text>\n",
       "\n",
       "<text class=\"displacy-token\" fill=\"currentColor\" text-anchor=\"middle\" y=\"309.5\">\n",
       "    <tspan class=\"displacy-word\" fill=\"currentColor\" x=\"575\">bleu</tspan>\n",
       "    <tspan class=\"displacy-tag\" dy=\"2em\" fill=\"currentColor\" x=\"575\">PROPN</tspan>\n",
       "</text>\n",
       "\n",
       "<text class=\"displacy-token\" fill=\"currentColor\" text-anchor=\"middle\" y=\"309.5\">\n",
       "    <tspan class=\"displacy-word\" fill=\"currentColor\" x=\"750\">salad</tspan>\n",
       "    <tspan class=\"displacy-tag\" dy=\"2em\" fill=\"currentColor\" x=\"750\">NOUN</tspan>\n",
       "</text>\n",
       "\n",
       "<text class=\"displacy-token\" fill=\"currentColor\" text-anchor=\"middle\" y=\"309.5\">\n",
       "    <tspan class=\"displacy-word\" fill=\"currentColor\" x=\"925\">was</tspan>\n",
       "    <tspan class=\"displacy-tag\" dy=\"2em\" fill=\"currentColor\" x=\"925\">AUX</tspan>\n",
       "</text>\n",
       "\n",
       "<text class=\"displacy-token\" fill=\"currentColor\" text-anchor=\"middle\" y=\"309.5\">\n",
       "    <tspan class=\"displacy-word\" fill=\"currentColor\" x=\"1100\">super</tspan>\n",
       "    <tspan class=\"displacy-tag\" dy=\"2em\" fill=\"currentColor\" x=\"1100\">ADJ</tspan>\n",
       "</text>\n",
       "\n",
       "<text class=\"displacy-token\" fill=\"currentColor\" text-anchor=\"middle\" y=\"309.5\">\n",
       "    <tspan class=\"displacy-word\" fill=\"currentColor\" x=\"1275\">yum</tspan>\n",
       "    <tspan class=\"displacy-tag\" dy=\"2em\" fill=\"currentColor\" x=\"1275\">NOUN</tspan>\n",
       "</text>\n",
       "\n",
       "<text class=\"displacy-token\" fill=\"currentColor\" text-anchor=\"middle\" y=\"309.5\">\n",
       "    <tspan class=\"displacy-word\" fill=\"currentColor\" x=\"1450\">and</tspan>\n",
       "    <tspan class=\"displacy-tag\" dy=\"2em\" fill=\"currentColor\" x=\"1450\">CCONJ</tspan>\n",
       "</text>\n",
       "\n",
       "<text class=\"displacy-token\" fill=\"currentColor\" text-anchor=\"middle\" y=\"309.5\">\n",
       "    <tspan class=\"displacy-word\" fill=\"currentColor\" x=\"1625\">a</tspan>\n",
       "    <tspan class=\"displacy-tag\" dy=\"2em\" fill=\"currentColor\" x=\"1625\">DET</tspan>\n",
       "</text>\n",
       "\n",
       "<text class=\"displacy-token\" fill=\"currentColor\" text-anchor=\"middle\" y=\"309.5\">\n",
       "    <tspan class=\"displacy-word\" fill=\"currentColor\" x=\"1800\">great</tspan>\n",
       "    <tspan class=\"displacy-tag\" dy=\"2em\" fill=\"currentColor\" x=\"1800\">ADJ</tspan>\n",
       "</text>\n",
       "\n",
       "<text class=\"displacy-token\" fill=\"currentColor\" text-anchor=\"middle\" y=\"309.5\">\n",
       "    <tspan class=\"displacy-word\" fill=\"currentColor\" x=\"1975\">addition</tspan>\n",
       "    <tspan class=\"displacy-tag\" dy=\"2em\" fill=\"currentColor\" x=\"1975\">NOUN</tspan>\n",
       "</text>\n",
       "\n",
       "<text class=\"displacy-token\" fill=\"currentColor\" text-anchor=\"middle\" y=\"309.5\">\n",
       "    <tspan class=\"displacy-word\" fill=\"currentColor\" x=\"2150\">to</tspan>\n",
       "    <tspan class=\"displacy-tag\" dy=\"2em\" fill=\"currentColor\" x=\"2150\">ADP</tspan>\n",
       "</text>\n",
       "\n",
       "<text class=\"displacy-token\" fill=\"currentColor\" text-anchor=\"middle\" y=\"309.5\">\n",
       "    <tspan class=\"displacy-word\" fill=\"currentColor\" x=\"2325\">the</tspan>\n",
       "    <tspan class=\"displacy-tag\" dy=\"2em\" fill=\"currentColor\" x=\"2325\">DET</tspan>\n",
       "</text>\n",
       "\n",
       "<text class=\"displacy-token\" fill=\"currentColor\" text-anchor=\"middle\" y=\"309.5\">\n",
       "    <tspan class=\"displacy-word\" fill=\"currentColor\" x=\"2500\">menu!</tspan>\n",
       "    <tspan class=\"displacy-tag\" dy=\"2em\" fill=\"currentColor\" x=\"2500\">NOUN</tspan>\n",
       "</text>\n",
       "\n",
       "<g class=\"displacy-arrow\">\n",
       "    <path class=\"displacy-arc\" id=\"arrow-c231fdefb7114ab7a2dfd7f300eee48d-0-0\" stroke-width=\"2px\" d=\"M70,264.5 C70,2.0 750.0,2.0 750.0,264.5\" fill=\"none\" stroke=\"currentColor\"/>\n",
       "    <text dy=\"1.25em\" style=\"font-size: 0.8em; letter-spacing: 1px\">\n",
       "        <textPath xlink:href=\"#arrow-c231fdefb7114ab7a2dfd7f300eee48d-0-0\" class=\"displacy-label\" startOffset=\"50%\" side=\"left\" fill=\"currentColor\" text-anchor=\"middle\">amod</textPath>\n",
       "    </text>\n",
       "    <path class=\"displacy-arrowhead\" d=\"M70,266.5 L62,254.5 78,254.5\" fill=\"currentColor\"/>\n",
       "</g>\n",
       "\n",
       "<g class=\"displacy-arrow\">\n",
       "    <path class=\"displacy-arc\" id=\"arrow-c231fdefb7114ab7a2dfd7f300eee48d-0-1\" stroke-width=\"2px\" d=\"M70,264.5 C70,177.0 215.0,177.0 215.0,264.5\" fill=\"none\" stroke=\"currentColor\"/>\n",
       "    <text dy=\"1.25em\" style=\"font-size: 0.8em; letter-spacing: 1px\">\n",
       "        <textPath xlink:href=\"#arrow-c231fdefb7114ab7a2dfd7f300eee48d-0-1\" class=\"displacy-label\" startOffset=\"50%\" side=\"left\" fill=\"currentColor\" text-anchor=\"middle\">conj</textPath>\n",
       "    </text>\n",
       "    <path class=\"displacy-arrowhead\" d=\"M215.0,266.5 L223.0,254.5 207.0,254.5\" fill=\"currentColor\"/>\n",
       "</g>\n",
       "\n",
       "<g class=\"displacy-arrow\">\n",
       "    <path class=\"displacy-arc\" id=\"arrow-c231fdefb7114ab7a2dfd7f300eee48d-0-2\" stroke-width=\"2px\" d=\"M245,264.5 C245,177.0 390.0,177.0 390.0,264.5\" fill=\"none\" stroke=\"currentColor\"/>\n",
       "    <text dy=\"1.25em\" style=\"font-size: 0.8em; letter-spacing: 1px\">\n",
       "        <textPath xlink:href=\"#arrow-c231fdefb7114ab7a2dfd7f300eee48d-0-2\" class=\"displacy-label\" startOffset=\"50%\" side=\"left\" fill=\"currentColor\" text-anchor=\"middle\">cc</textPath>\n",
       "    </text>\n",
       "    <path class=\"displacy-arrowhead\" d=\"M390.0,266.5 L398.0,254.5 382.0,254.5\" fill=\"currentColor\"/>\n",
       "</g>\n",
       "\n",
       "<g class=\"displacy-arrow\">\n",
       "    <path class=\"displacy-arc\" id=\"arrow-c231fdefb7114ab7a2dfd7f300eee48d-0-3\" stroke-width=\"2px\" d=\"M245,264.5 C245,89.5 570.0,89.5 570.0,264.5\" fill=\"none\" stroke=\"currentColor\"/>\n",
       "    <text dy=\"1.25em\" style=\"font-size: 0.8em; letter-spacing: 1px\">\n",
       "        <textPath xlink:href=\"#arrow-c231fdefb7114ab7a2dfd7f300eee48d-0-3\" class=\"displacy-label\" startOffset=\"50%\" side=\"left\" fill=\"currentColor\" text-anchor=\"middle\">conj</textPath>\n",
       "    </text>\n",
       "    <path class=\"displacy-arrowhead\" d=\"M570.0,266.5 L578.0,254.5 562.0,254.5\" fill=\"currentColor\"/>\n",
       "</g>\n",
       "\n",
       "<g class=\"displacy-arrow\">\n",
       "    <path class=\"displacy-arc\" id=\"arrow-c231fdefb7114ab7a2dfd7f300eee48d-0-4\" stroke-width=\"2px\" d=\"M770,264.5 C770,177.0 915.0,177.0 915.0,264.5\" fill=\"none\" stroke=\"currentColor\"/>\n",
       "    <text dy=\"1.25em\" style=\"font-size: 0.8em; letter-spacing: 1px\">\n",
       "        <textPath xlink:href=\"#arrow-c231fdefb7114ab7a2dfd7f300eee48d-0-4\" class=\"displacy-label\" startOffset=\"50%\" side=\"left\" fill=\"currentColor\" text-anchor=\"middle\">nsubj</textPath>\n",
       "    </text>\n",
       "    <path class=\"displacy-arrowhead\" d=\"M770,266.5 L762,254.5 778,254.5\" fill=\"currentColor\"/>\n",
       "</g>\n",
       "\n",
       "<g class=\"displacy-arrow\">\n",
       "    <path class=\"displacy-arc\" id=\"arrow-c231fdefb7114ab7a2dfd7f300eee48d-0-5\" stroke-width=\"2px\" d=\"M1120,264.5 C1120,177.0 1265.0,177.0 1265.0,264.5\" fill=\"none\" stroke=\"currentColor\"/>\n",
       "    <text dy=\"1.25em\" style=\"font-size: 0.8em; letter-spacing: 1px\">\n",
       "        <textPath xlink:href=\"#arrow-c231fdefb7114ab7a2dfd7f300eee48d-0-5\" class=\"displacy-label\" startOffset=\"50%\" side=\"left\" fill=\"currentColor\" text-anchor=\"middle\">amod</textPath>\n",
       "    </text>\n",
       "    <path class=\"displacy-arrowhead\" d=\"M1120,266.5 L1112,254.5 1128,254.5\" fill=\"currentColor\"/>\n",
       "</g>\n",
       "\n",
       "<g class=\"displacy-arrow\">\n",
       "    <path class=\"displacy-arc\" id=\"arrow-c231fdefb7114ab7a2dfd7f300eee48d-0-6\" stroke-width=\"2px\" d=\"M945,264.5 C945,89.5 1270.0,89.5 1270.0,264.5\" fill=\"none\" stroke=\"currentColor\"/>\n",
       "    <text dy=\"1.25em\" style=\"font-size: 0.8em; letter-spacing: 1px\">\n",
       "        <textPath xlink:href=\"#arrow-c231fdefb7114ab7a2dfd7f300eee48d-0-6\" class=\"displacy-label\" startOffset=\"50%\" side=\"left\" fill=\"currentColor\" text-anchor=\"middle\">attr</textPath>\n",
       "    </text>\n",
       "    <path class=\"displacy-arrowhead\" d=\"M1270.0,266.5 L1278.0,254.5 1262.0,254.5\" fill=\"currentColor\"/>\n",
       "</g>\n",
       "\n",
       "<g class=\"displacy-arrow\">\n",
       "    <path class=\"displacy-arc\" id=\"arrow-c231fdefb7114ab7a2dfd7f300eee48d-0-7\" stroke-width=\"2px\" d=\"M1295,264.5 C1295,177.0 1440.0,177.0 1440.0,264.5\" fill=\"none\" stroke=\"currentColor\"/>\n",
       "    <text dy=\"1.25em\" style=\"font-size: 0.8em; letter-spacing: 1px\">\n",
       "        <textPath xlink:href=\"#arrow-c231fdefb7114ab7a2dfd7f300eee48d-0-7\" class=\"displacy-label\" startOffset=\"50%\" side=\"left\" fill=\"currentColor\" text-anchor=\"middle\">cc</textPath>\n",
       "    </text>\n",
       "    <path class=\"displacy-arrowhead\" d=\"M1440.0,266.5 L1448.0,254.5 1432.0,254.5\" fill=\"currentColor\"/>\n",
       "</g>\n",
       "\n",
       "<g class=\"displacy-arrow\">\n",
       "    <path class=\"displacy-arc\" id=\"arrow-c231fdefb7114ab7a2dfd7f300eee48d-0-8\" stroke-width=\"2px\" d=\"M1645,264.5 C1645,89.5 1970.0,89.5 1970.0,264.5\" fill=\"none\" stroke=\"currentColor\"/>\n",
       "    <text dy=\"1.25em\" style=\"font-size: 0.8em; letter-spacing: 1px\">\n",
       "        <textPath xlink:href=\"#arrow-c231fdefb7114ab7a2dfd7f300eee48d-0-8\" class=\"displacy-label\" startOffset=\"50%\" side=\"left\" fill=\"currentColor\" text-anchor=\"middle\">det</textPath>\n",
       "    </text>\n",
       "    <path class=\"displacy-arrowhead\" d=\"M1645,266.5 L1637,254.5 1653,254.5\" fill=\"currentColor\"/>\n",
       "</g>\n",
       "\n",
       "<g class=\"displacy-arrow\">\n",
       "    <path class=\"displacy-arc\" id=\"arrow-c231fdefb7114ab7a2dfd7f300eee48d-0-9\" stroke-width=\"2px\" d=\"M1820,264.5 C1820,177.0 1965.0,177.0 1965.0,264.5\" fill=\"none\" stroke=\"currentColor\"/>\n",
       "    <text dy=\"1.25em\" style=\"font-size: 0.8em; letter-spacing: 1px\">\n",
       "        <textPath xlink:href=\"#arrow-c231fdefb7114ab7a2dfd7f300eee48d-0-9\" class=\"displacy-label\" startOffset=\"50%\" side=\"left\" fill=\"currentColor\" text-anchor=\"middle\">amod</textPath>\n",
       "    </text>\n",
       "    <path class=\"displacy-arrowhead\" d=\"M1820,266.5 L1812,254.5 1828,254.5\" fill=\"currentColor\"/>\n",
       "</g>\n",
       "\n",
       "<g class=\"displacy-arrow\">\n",
       "    <path class=\"displacy-arc\" id=\"arrow-c231fdefb7114ab7a2dfd7f300eee48d-0-10\" stroke-width=\"2px\" d=\"M1295,264.5 C1295,2.0 1975.0,2.0 1975.0,264.5\" fill=\"none\" stroke=\"currentColor\"/>\n",
       "    <text dy=\"1.25em\" style=\"font-size: 0.8em; letter-spacing: 1px\">\n",
       "        <textPath xlink:href=\"#arrow-c231fdefb7114ab7a2dfd7f300eee48d-0-10\" class=\"displacy-label\" startOffset=\"50%\" side=\"left\" fill=\"currentColor\" text-anchor=\"middle\">conj</textPath>\n",
       "    </text>\n",
       "    <path class=\"displacy-arrowhead\" d=\"M1975.0,266.5 L1983.0,254.5 1967.0,254.5\" fill=\"currentColor\"/>\n",
       "</g>\n",
       "\n",
       "<g class=\"displacy-arrow\">\n",
       "    <path class=\"displacy-arc\" id=\"arrow-c231fdefb7114ab7a2dfd7f300eee48d-0-11\" stroke-width=\"2px\" d=\"M1995,264.5 C1995,177.0 2140.0,177.0 2140.0,264.5\" fill=\"none\" stroke=\"currentColor\"/>\n",
       "    <text dy=\"1.25em\" style=\"font-size: 0.8em; letter-spacing: 1px\">\n",
       "        <textPath xlink:href=\"#arrow-c231fdefb7114ab7a2dfd7f300eee48d-0-11\" class=\"displacy-label\" startOffset=\"50%\" side=\"left\" fill=\"currentColor\" text-anchor=\"middle\">prep</textPath>\n",
       "    </text>\n",
       "    <path class=\"displacy-arrowhead\" d=\"M2140.0,266.5 L2148.0,254.5 2132.0,254.5\" fill=\"currentColor\"/>\n",
       "</g>\n",
       "\n",
       "<g class=\"displacy-arrow\">\n",
       "    <path class=\"displacy-arc\" id=\"arrow-c231fdefb7114ab7a2dfd7f300eee48d-0-12\" stroke-width=\"2px\" d=\"M2345,264.5 C2345,177.0 2490.0,177.0 2490.0,264.5\" fill=\"none\" stroke=\"currentColor\"/>\n",
       "    <text dy=\"1.25em\" style=\"font-size: 0.8em; letter-spacing: 1px\">\n",
       "        <textPath xlink:href=\"#arrow-c231fdefb7114ab7a2dfd7f300eee48d-0-12\" class=\"displacy-label\" startOffset=\"50%\" side=\"left\" fill=\"currentColor\" text-anchor=\"middle\">det</textPath>\n",
       "    </text>\n",
       "    <path class=\"displacy-arrowhead\" d=\"M2345,266.5 L2337,254.5 2353,254.5\" fill=\"currentColor\"/>\n",
       "</g>\n",
       "\n",
       "<g class=\"displacy-arrow\">\n",
       "    <path class=\"displacy-arc\" id=\"arrow-c231fdefb7114ab7a2dfd7f300eee48d-0-13\" stroke-width=\"2px\" d=\"M2170,264.5 C2170,89.5 2495.0,89.5 2495.0,264.5\" fill=\"none\" stroke=\"currentColor\"/>\n",
       "    <text dy=\"1.25em\" style=\"font-size: 0.8em; letter-spacing: 1px\">\n",
       "        <textPath xlink:href=\"#arrow-c231fdefb7114ab7a2dfd7f300eee48d-0-13\" class=\"displacy-label\" startOffset=\"50%\" side=\"left\" fill=\"currentColor\" text-anchor=\"middle\">pobj</textPath>\n",
       "    </text>\n",
       "    <path class=\"displacy-arrowhead\" d=\"M2495.0,266.5 L2503.0,254.5 2487.0,254.5\" fill=\"currentColor\"/>\n",
       "</g>\n",
       "</svg></span>"
      ],
      "text/plain": [
       "<IPython.core.display.HTML object>"
      ]
     },
     "metadata": {},
     "output_type": "display_data"
    }
   ],
   "source": [
    "render(test)"
   ]
  },
  {
   "cell_type": "code",
   "execution_count": 19,
   "id": "59fbb25b",
   "metadata": {},
   "outputs": [],
   "source": [
    "data = pd.DataFrame([{\n",
    "    'token_id': i, 'token': x.idx, 'text': x.text, 'pos': x.pos_, 'lemma': x.lemma_,\n",
    "    'dep': x.dep_, 'head': x.head.idx\n",
    "} for i, x in enumerate(test)])"
   ]
  },
  {
   "cell_type": "code",
   "execution_count": 20,
   "id": "869f3120",
   "metadata": {},
   "outputs": [
    {
     "data": {
      "text/html": [
       "<div>\n",
       "<style scoped>\n",
       "    .dataframe tbody tr th:only-of-type {\n",
       "        vertical-align: middle;\n",
       "    }\n",
       "\n",
       "    .dataframe tbody tr th {\n",
       "        vertical-align: top;\n",
       "    }\n",
       "\n",
       "    .dataframe thead th {\n",
       "        text-align: right;\n",
       "    }\n",
       "</style>\n",
       "<table border=\"1\" class=\"dataframe\">\n",
       "  <thead>\n",
       "    <tr style=\"text-align: right;\">\n",
       "      <th></th>\n",
       "      <th>token_id</th>\n",
       "      <th>token</th>\n",
       "      <th>text</th>\n",
       "      <th>pos</th>\n",
       "      <th>lemma</th>\n",
       "      <th>dep</th>\n",
       "      <th>head</th>\n",
       "    </tr>\n",
       "  </thead>\n",
       "  <tbody>\n",
       "    <tr>\n",
       "      <th>0</th>\n",
       "      <td>0</td>\n",
       "      <td>0</td>\n",
       "      <td>Red</td>\n",
       "      <td>ADJ</td>\n",
       "      <td>red</td>\n",
       "      <td>amod</td>\n",
       "      <td>20</td>\n",
       "    </tr>\n",
       "    <tr>\n",
       "      <th>1</th>\n",
       "      <td>1</td>\n",
       "      <td>3</td>\n",
       "      <td>,</td>\n",
       "      <td>PUNCT</td>\n",
       "      <td>,</td>\n",
       "      <td>punct</td>\n",
       "      <td>0</td>\n",
       "    </tr>\n",
       "    <tr>\n",
       "      <th>2</th>\n",
       "      <td>2</td>\n",
       "      <td>5</td>\n",
       "      <td>white</td>\n",
       "      <td>ADJ</td>\n",
       "      <td>white</td>\n",
       "      <td>conj</td>\n",
       "      <td>0</td>\n",
       "    </tr>\n",
       "    <tr>\n",
       "      <th>3</th>\n",
       "      <td>3</td>\n",
       "      <td>11</td>\n",
       "      <td>and</td>\n",
       "      <td>CCONJ</td>\n",
       "      <td>and</td>\n",
       "      <td>cc</td>\n",
       "      <td>5</td>\n",
       "    </tr>\n",
       "    <tr>\n",
       "      <th>4</th>\n",
       "      <td>4</td>\n",
       "      <td>15</td>\n",
       "      <td>bleu</td>\n",
       "      <td>PROPN</td>\n",
       "      <td>bleu</td>\n",
       "      <td>conj</td>\n",
       "      <td>5</td>\n",
       "    </tr>\n",
       "    <tr>\n",
       "      <th>5</th>\n",
       "      <td>5</td>\n",
       "      <td>20</td>\n",
       "      <td>salad</td>\n",
       "      <td>NOUN</td>\n",
       "      <td>salad</td>\n",
       "      <td>nsubj</td>\n",
       "      <td>26</td>\n",
       "    </tr>\n",
       "    <tr>\n",
       "      <th>6</th>\n",
       "      <td>6</td>\n",
       "      <td>26</td>\n",
       "      <td>was</td>\n",
       "      <td>AUX</td>\n",
       "      <td>be</td>\n",
       "      <td>ROOT</td>\n",
       "      <td>26</td>\n",
       "    </tr>\n",
       "    <tr>\n",
       "      <th>7</th>\n",
       "      <td>7</td>\n",
       "      <td>30</td>\n",
       "      <td>super</td>\n",
       "      <td>ADJ</td>\n",
       "      <td>super</td>\n",
       "      <td>amod</td>\n",
       "      <td>36</td>\n",
       "    </tr>\n",
       "    <tr>\n",
       "      <th>8</th>\n",
       "      <td>8</td>\n",
       "      <td>36</td>\n",
       "      <td>yum</td>\n",
       "      <td>NOUN</td>\n",
       "      <td>yum</td>\n",
       "      <td>attr</td>\n",
       "      <td>26</td>\n",
       "    </tr>\n",
       "    <tr>\n",
       "      <th>9</th>\n",
       "      <td>9</td>\n",
       "      <td>40</td>\n",
       "      <td>and</td>\n",
       "      <td>CCONJ</td>\n",
       "      <td>and</td>\n",
       "      <td>cc</td>\n",
       "      <td>36</td>\n",
       "    </tr>\n",
       "    <tr>\n",
       "      <th>10</th>\n",
       "      <td>10</td>\n",
       "      <td>44</td>\n",
       "      <td>a</td>\n",
       "      <td>DET</td>\n",
       "      <td>a</td>\n",
       "      <td>det</td>\n",
       "      <td>52</td>\n",
       "    </tr>\n",
       "    <tr>\n",
       "      <th>11</th>\n",
       "      <td>11</td>\n",
       "      <td>46</td>\n",
       "      <td>great</td>\n",
       "      <td>ADJ</td>\n",
       "      <td>great</td>\n",
       "      <td>amod</td>\n",
       "      <td>52</td>\n",
       "    </tr>\n",
       "    <tr>\n",
       "      <th>12</th>\n",
       "      <td>12</td>\n",
       "      <td>52</td>\n",
       "      <td>addition</td>\n",
       "      <td>NOUN</td>\n",
       "      <td>addition</td>\n",
       "      <td>conj</td>\n",
       "      <td>36</td>\n",
       "    </tr>\n",
       "    <tr>\n",
       "      <th>13</th>\n",
       "      <td>13</td>\n",
       "      <td>61</td>\n",
       "      <td>to</td>\n",
       "      <td>ADP</td>\n",
       "      <td>to</td>\n",
       "      <td>prep</td>\n",
       "      <td>52</td>\n",
       "    </tr>\n",
       "    <tr>\n",
       "      <th>14</th>\n",
       "      <td>14</td>\n",
       "      <td>64</td>\n",
       "      <td>the</td>\n",
       "      <td>DET</td>\n",
       "      <td>the</td>\n",
       "      <td>det</td>\n",
       "      <td>68</td>\n",
       "    </tr>\n",
       "    <tr>\n",
       "      <th>15</th>\n",
       "      <td>15</td>\n",
       "      <td>68</td>\n",
       "      <td>menu</td>\n",
       "      <td>NOUN</td>\n",
       "      <td>menu</td>\n",
       "      <td>pobj</td>\n",
       "      <td>61</td>\n",
       "    </tr>\n",
       "    <tr>\n",
       "      <th>16</th>\n",
       "      <td>16</td>\n",
       "      <td>72</td>\n",
       "      <td>!</td>\n",
       "      <td>PUNCT</td>\n",
       "      <td>!</td>\n",
       "      <td>punct</td>\n",
       "      <td>26</td>\n",
       "    </tr>\n",
       "  </tbody>\n",
       "</table>\n",
       "</div>"
      ],
      "text/plain": [
       "    token_id  token      text    pos     lemma    dep  head\n",
       "0          0      0       Red    ADJ       red   amod    20\n",
       "1          1      3         ,  PUNCT         ,  punct     0\n",
       "2          2      5     white    ADJ     white   conj     0\n",
       "3          3     11       and  CCONJ       and     cc     5\n",
       "4          4     15      bleu  PROPN      bleu   conj     5\n",
       "5          5     20     salad   NOUN     salad  nsubj    26\n",
       "6          6     26       was    AUX        be   ROOT    26\n",
       "7          7     30     super    ADJ     super   amod    36\n",
       "8          8     36       yum   NOUN       yum   attr    26\n",
       "9          9     40       and  CCONJ       and     cc    36\n",
       "10        10     44         a    DET         a    det    52\n",
       "11        11     46     great    ADJ     great   amod    52\n",
       "12        12     52  addition   NOUN  addition   conj    36\n",
       "13        13     61        to    ADP        to   prep    52\n",
       "14        14     64       the    DET       the    det    68\n",
       "15        15     68      menu   NOUN      menu   pobj    61\n",
       "16        16     72         !  PUNCT         !  punct    26"
      ]
     },
     "execution_count": 20,
     "metadata": {},
     "output_type": "execute_result"
    }
   ],
   "source": [
    "data"
   ]
  },
  {
   "cell_type": "markdown",
   "id": "3bf62ce9",
   "metadata": {},
   "source": [
    "## Explore the graph for detecting the target of adjectives and verbs\n",
    "- hints: create a statistics of the adjectives and verbs most common dependencies"
   ]
  },
  {
   "cell_type": "code",
   "execution_count": 21,
   "id": "79a8a203",
   "metadata": {},
   "outputs": [],
   "source": [
    "token_map = lambda span: dict([(x.idx, x) for x in span])"
   ]
  },
  {
   "cell_type": "code",
   "execution_count": 22,
   "id": "57a8516f",
   "metadata": {},
   "outputs": [],
   "source": [
    "def explore(token, children=None, level=0, order=None):\n",
    "    if children is None:\n",
    "        children = []\n",
    "    if order is None:\n",
    "        order = token.idx\n",
    "    for child in token.children:\n",
    "        children.append((child, level, child.idx < order))\n",
    "        explore(child, children=children, level=level+1, order=order)\n",
    "    return children"
   ]
  },
  {
   "cell_type": "markdown",
   "id": "cc473dd6",
   "metadata": {},
   "source": [
    "### Left side adjectives\n",
    "Search for adjectives on the left side of the dependency tree but exclude adjectives found after another noun in the tree"
   ]
  },
  {
   "cell_type": "code",
   "execution_count": 23,
   "id": "dfe3de8c",
   "metadata": {},
   "outputs": [],
   "source": [
    "def search_adjectives(nlp_text, nouns=None):\n",
    "    nouns_map = dict([(x, []) for x in nlp_text if x.pos_ in ['NOUN', 'PROPN']])\n",
    "    if nouns is None:\n",
    "        nouns = nouns_map.keys()\n",
    "    else:\n",
    "        pass\n",
    "    for noun in nouns:\n",
    "        subtree = explore(noun)\n",
    "        subnouns = [(x, l) for x, l, _ in subtree if x.pos_ in ['NOUN', 'PROPN']]\n",
    "        for token, level, left in subtree:\n",
    "            if token.pos_ == 'ADJ' and len([(n, l) for n, l in subnouns if l < level]) == 0:\n",
    "                try:\n",
    "                    nouns_map[noun].append(token)\n",
    "                except KeyError:\n",
    "                    pass\n",
    "    return nouns_map"
   ]
  },
  {
   "cell_type": "markdown",
   "id": "505770ed",
   "metadata": {},
   "source": [
    "### Verb patterns\n",
    "Search for the pattern\n",
    "$$\n",
    "NOUN \\rightarrow BE\\ (VERB)\\ \\rightarrow ADJ\n",
    "$$\n",
    "For the noun, we search for a subject. For the adjective:\n",
    "- get only `dobj`, `attr` and `conj` **or** level 0 adjectives\n",
    "- add level 0 adjectives to the adjective map for the corresponding subject noun\n",
    "- for nouns, get the adjective map and add the adjectives to the subject\n",
    "\n",
    "**Important** in this example we do not deal with negation. Address negation as an exercise."
   ]
  },
  {
   "cell_type": "code",
   "execution_count": 24,
   "id": "ec407af3",
   "metadata": {},
   "outputs": [],
   "source": [
    "def verb_adjectives(text, adjective_map):\n",
    "    be_verbs = [x for x in text if x.lemma_ == 'be']\n",
    "    for be in be_verbs:\n",
    "        subtokens = explore(be)\n",
    "        subject = [(x) for x, level, left in subtokens if left and x.dep_ == 'nsubj']\n",
    "        if len(subject) > 0:\n",
    "            subj = subject[0]\n",
    "            for candidate, level, left in subtokens:\n",
    "                if not left:\n",
    "                    if candidate.pos_ == 'ADJ' and level == 0:\n",
    "                        try:\n",
    "                            adjective_map[subj].append(candidate)\n",
    "                        except KeyError:\n",
    "                            pass\n",
    "                    elif candidate.dep_ in ['dobj', 'attr', 'conj']:\n",
    "                        adj = search_adjectives(text, nouns=[candidate])\n",
    "                        try:\n",
    "                            adjective_map[subj] += adj[candidate]\n",
    "                        except KeyError:\n",
    "                            pass\n",
    "                    else:\n",
    "                        pass"
   ]
  },
  {
   "cell_type": "code",
   "execution_count": 25,
   "id": "bac6c869",
   "metadata": {},
   "outputs": [],
   "source": [
    "## TODO try to write your own DFS \n",
    "## TODO negation, passive form\n",
    "## TODO weight all adverbs"
   ]
  },
  {
   "cell_type": "markdown",
   "id": "e896d676",
   "metadata": {},
   "source": [
    "### Example"
   ]
  },
  {
   "cell_type": "code",
   "execution_count": 26,
   "id": "68ce124c",
   "metadata": {},
   "outputs": [
    {
     "data": {
      "text/plain": [
       "Red, white and bleu salad was super yum and a great addition to the menu!"
      ]
     },
     "execution_count": 26,
     "metadata": {},
     "output_type": "execute_result"
    }
   ],
   "source": [
    "test"
   ]
  },
  {
   "cell_type": "code",
   "execution_count": 27,
   "id": "751ee7f9",
   "metadata": {},
   "outputs": [],
   "source": [
    "nm = search_adjectives(test)\n",
    "verb_adjectives(test, adjective_map=nm)"
   ]
  },
  {
   "cell_type": "code",
   "execution_count": 28,
   "id": "32e89c41",
   "metadata": {},
   "outputs": [
    {
     "name": "stdout",
     "output_type": "stream",
     "text": [
      "bleu []\n",
      "salad [Red, white, super, great]\n",
      "yum [super]\n",
      "addition [great]\n",
      "menu []\n"
     ]
    }
   ],
   "source": [
    "for k, v in nm.items():\n",
    "    print(k, v)"
   ]
  },
  {
   "cell_type": "markdown",
   "id": "0ec77571",
   "metadata": {},
   "source": [
    "## Find meaningful pairs ADJ-NOUN per business category\n",
    "We now exploit our search functions to get stats about the adjective-noun pairs and the corresponding business categories."
   ]
  },
  {
   "cell_type": "code",
   "execution_count": 29,
   "id": "6d47fe31",
   "metadata": {},
   "outputs": [],
   "source": [
    "documents, stars, categories = [], [], []\n",
    "for i, review in enumerate(R[:3000]):\n",
    "    documents.append(review['content'])\n",
    "    stars.append(review['stars'])\n",
    "    categories.append(review['categories'])"
   ]
  },
  {
   "cell_type": "code",
   "execution_count": 33,
   "id": "a995081a",
   "metadata": {},
   "outputs": [
    {
     "ename": "ImportError",
     "evalue": "IProgress not found. Please update jupyter and ipywidgets. See https://ipywidgets.readthedocs.io/en/stable/user_install.html",
     "output_type": "error",
     "traceback": [
      "\u001b[0;31m---------------------------------------------------------------------------\u001b[0m",
      "\u001b[0;31mImportError\u001b[0m                               Traceback (most recent call last)",
      "Input \u001b[0;32mIn [33]\u001b[0m, in \u001b[0;36m<module>\u001b[0;34m\u001b[0m\n\u001b[1;32m      1\u001b[0m stats_data \u001b[38;5;241m=\u001b[39m []\n\u001b[1;32m      2\u001b[0m runs \u001b[38;5;241m=\u001b[39m \u001b[38;5;28mlist\u001b[39m(\u001b[38;5;28menumerate\u001b[39m(documents))\n\u001b[0;32m----> 3\u001b[0m \u001b[38;5;28;01mfor\u001b[39;00m i, doc \u001b[38;5;129;01min\u001b[39;00m \u001b[43mtqdm\u001b[49m\u001b[43m(\u001b[49m\u001b[43mruns\u001b[49m\u001b[43m)\u001b[49m:\n\u001b[1;32m      4\u001b[0m     cats \u001b[38;5;241m=\u001b[39m categories[i]\n\u001b[1;32m      5\u001b[0m     star \u001b[38;5;241m=\u001b[39m stars[i]\n",
      "File \u001b[0;32m~/.local/lib/python3.8/site-packages/tqdm/notebook.py:242\u001b[0m, in \u001b[0;36mtqdm_notebook.__init__\u001b[0;34m(self, *args, **kwargs)\u001b[0m\n\u001b[1;32m    240\u001b[0m unit_scale \u001b[38;5;241m=\u001b[39m \u001b[38;5;241m1\u001b[39m \u001b[38;5;28;01mif\u001b[39;00m \u001b[38;5;28mself\u001b[39m\u001b[38;5;241m.\u001b[39munit_scale \u001b[38;5;129;01mis\u001b[39;00m \u001b[38;5;28;01mTrue\u001b[39;00m \u001b[38;5;28;01melse\u001b[39;00m \u001b[38;5;28mself\u001b[39m\u001b[38;5;241m.\u001b[39munit_scale \u001b[38;5;129;01mor\u001b[39;00m \u001b[38;5;241m1\u001b[39m\n\u001b[1;32m    241\u001b[0m total \u001b[38;5;241m=\u001b[39m \u001b[38;5;28mself\u001b[39m\u001b[38;5;241m.\u001b[39mtotal \u001b[38;5;241m*\u001b[39m unit_scale \u001b[38;5;28;01mif\u001b[39;00m \u001b[38;5;28mself\u001b[39m\u001b[38;5;241m.\u001b[39mtotal \u001b[38;5;28;01melse\u001b[39;00m \u001b[38;5;28mself\u001b[39m\u001b[38;5;241m.\u001b[39mtotal\n\u001b[0;32m--> 242\u001b[0m \u001b[38;5;28mself\u001b[39m\u001b[38;5;241m.\u001b[39mcontainer \u001b[38;5;241m=\u001b[39m \u001b[38;5;28;43mself\u001b[39;49m\u001b[38;5;241;43m.\u001b[39;49m\u001b[43mstatus_printer\u001b[49m\u001b[43m(\u001b[49m\u001b[38;5;28;43mself\u001b[39;49m\u001b[38;5;241;43m.\u001b[39;49m\u001b[43mfp\u001b[49m\u001b[43m,\u001b[49m\u001b[43m \u001b[49m\u001b[43mtotal\u001b[49m\u001b[43m,\u001b[49m\u001b[43m \u001b[49m\u001b[38;5;28;43mself\u001b[39;49m\u001b[38;5;241;43m.\u001b[39;49m\u001b[43mdesc\u001b[49m\u001b[43m,\u001b[49m\u001b[43m \u001b[49m\u001b[38;5;28;43mself\u001b[39;49m\u001b[38;5;241;43m.\u001b[39;49m\u001b[43mncols\u001b[49m\u001b[43m)\u001b[49m\n\u001b[1;32m    243\u001b[0m \u001b[38;5;28mself\u001b[39m\u001b[38;5;241m.\u001b[39mcontainer\u001b[38;5;241m.\u001b[39mpbar \u001b[38;5;241m=\u001b[39m proxy(\u001b[38;5;28mself\u001b[39m)\n\u001b[1;32m    244\u001b[0m \u001b[38;5;28mself\u001b[39m\u001b[38;5;241m.\u001b[39mdisplayed \u001b[38;5;241m=\u001b[39m \u001b[38;5;28;01mFalse\u001b[39;00m\n",
      "File \u001b[0;32m~/.local/lib/python3.8/site-packages/tqdm/notebook.py:115\u001b[0m, in \u001b[0;36mtqdm_notebook.status_printer\u001b[0;34m(_, total, desc, ncols)\u001b[0m\n\u001b[1;32m    106\u001b[0m \u001b[38;5;66;03m# Fallback to text bar if there's no total\u001b[39;00m\n\u001b[1;32m    107\u001b[0m \u001b[38;5;66;03m# DEPRECATED: replaced with an 'info' style bar\u001b[39;00m\n\u001b[1;32m    108\u001b[0m \u001b[38;5;66;03m# if not total:\u001b[39;00m\n\u001b[0;32m   (...)\u001b[0m\n\u001b[1;32m    112\u001b[0m \n\u001b[1;32m    113\u001b[0m \u001b[38;5;66;03m# Prepare IPython progress bar\u001b[39;00m\n\u001b[1;32m    114\u001b[0m \u001b[38;5;28;01mif\u001b[39;00m IProgress \u001b[38;5;129;01mis\u001b[39;00m \u001b[38;5;28;01mNone\u001b[39;00m:  \u001b[38;5;66;03m# #187 #451 #558 #872\u001b[39;00m\n\u001b[0;32m--> 115\u001b[0m     \u001b[38;5;28;01mraise\u001b[39;00m \u001b[38;5;167;01mImportError\u001b[39;00m(\n\u001b[1;32m    116\u001b[0m         \u001b[38;5;124m\"\u001b[39m\u001b[38;5;124mIProgress not found. Please update jupyter and ipywidgets.\u001b[39m\u001b[38;5;124m\"\u001b[39m\n\u001b[1;32m    117\u001b[0m         \u001b[38;5;124m\"\u001b[39m\u001b[38;5;124m See https://ipywidgets.readthedocs.io/en/stable\u001b[39m\u001b[38;5;124m\"\u001b[39m\n\u001b[1;32m    118\u001b[0m         \u001b[38;5;124m\"\u001b[39m\u001b[38;5;124m/user_install.html\u001b[39m\u001b[38;5;124m\"\u001b[39m)\n\u001b[1;32m    119\u001b[0m \u001b[38;5;28;01mif\u001b[39;00m total:\n\u001b[1;32m    120\u001b[0m     pbar \u001b[38;5;241m=\u001b[39m IProgress(\u001b[38;5;28mmin\u001b[39m\u001b[38;5;241m=\u001b[39m\u001b[38;5;241m0\u001b[39m, \u001b[38;5;28mmax\u001b[39m\u001b[38;5;241m=\u001b[39mtotal)\n",
      "\u001b[0;31mImportError\u001b[0m: IProgress not found. Please update jupyter and ipywidgets. See https://ipywidgets.readthedocs.io/en/stable/user_install.html"
     ]
    }
   ],
   "source": [
    "stats_data = []\n",
    "runs = list(enumerate(documents))\n",
    "for i, doc in tqdm(runs):\n",
    "    cats = categories[i]\n",
    "    star = stars[i]\n",
    "    sample = spacy_sentences(nlp, doc)\n",
    "    for sent in sample:\n",
    "        nm = search_adjectives(sent)\n",
    "        verb_adjectives(sent, adjective_map=nm)\n",
    "        for n, adjs in nm.items():\n",
    "            for a in adjs:\n",
    "                for cat in cats:\n",
    "                    stats_data.append({\n",
    "                        'doc': i,\n",
    "                        'category': cat,\n",
    "                        'adj': a.lemma_.lower(),\n",
    "                        'noun': n.lemma_.lower()\n",
    "                    })\n",
    "S = pd.DataFrame(stats_data)"
   ]
  },
  {
   "cell_type": "markdown",
   "id": "a8a764cd",
   "metadata": {},
   "source": [
    "### Pointwise mutual information\n",
    "We can exploit PMI for two aims:\n",
    "\n",
    "1. compute relevance of adjective-noun pairs\n",
    "2. compute relevance of nouns pairs per category\n",
    "\n",
    "(1.) is a measure of how much an adjective is related to the corresponding noun, while (2.) gives a measure of how much a noun is relevant for a category \n",
    "\n",
    "The general formula for PMI given two variables A and B is:\n",
    "$$\n",
    "PMI(A, B) = \\log \\frac{P(A, B)}{P(A)P(B)} = \\log \\left ( \\frac{count(P(A, B))}{\\sum\\limits_{i=1}^{n} count(P((A, B)_i)}\n",
    "\\frac{\\sum\\limits_{j=1}^{a} count(A_j)\\sum\\limits_{z=1}^{b} count(B_j)}{count(A)count(B)} \\right )\n",
    "$$\n",
    "**Note**: the reliability of PMI requires a minimal number of observations. For this reason, we skip pairs of values having a low frequency"
   ]
  },
  {
   "cell_type": "markdown",
   "id": "3d2c0d2e",
   "metadata": {},
   "source": [
    "#### Adjective-Noun PMI\n",
    "**NOTE** for adj-noun pairs, we first get rid of categories to avoid overcounting pairs"
   ]
  },
  {
   "cell_type": "code",
   "execution_count": null,
   "id": "41a5ef33",
   "metadata": {},
   "outputs": [],
   "source": [
    "Sdoc = S.groupby(['doc', 'adj', 'noun']).first().reset_index()[['doc', 'adj', 'noun']]"
   ]
  },
  {
   "cell_type": "code",
   "execution_count": null,
   "id": "bcf1b68b",
   "metadata": {},
   "outputs": [],
   "source": [
    "adj_noun = Sdoc.groupby(['adj', 'noun']).count()\n",
    "adj_noun = adj_noun[adj_noun.doc > 10]\n",
    "adj = Sdoc.groupby('adj').count()['doc']\n",
    "adj = pd.DataFrame(adj[adj > 10])\n",
    "noun = Sdoc.groupby('noun').count()['doc']\n",
    "noun = pd.DataFrame(noun[noun > 10])\n",
    "\n",
    "\n",
    "# filtering out too small frequncies"
   ]
  },
  {
   "cell_type": "markdown",
   "id": "11cd2f95",
   "metadata": {},
   "source": [
    "##### Probabilities"
   ]
  },
  {
   "cell_type": "code",
   "execution_count": null,
   "id": "0e69c0ec",
   "metadata": {},
   "outputs": [],
   "source": [
    "adj_noun_sum = adj_noun.sum()['doc']\n",
    "adj_noun['p'] = adj_noun.doc / adj_noun_sum\n",
    "adj_sum = adj.sum()['doc']\n",
    "adj['p'] = adj.doc / adj_sum\n",
    "noun_sum = noun.sum()['doc']\n",
    "noun['p'] = noun.doc / noun_sum"
   ]
  },
  {
   "cell_type": "markdown",
   "id": "8c38a568",
   "metadata": {},
   "source": [
    "##### PMI"
   ]
  },
  {
   "cell_type": "code",
   "execution_count": null,
   "id": "cc31e206",
   "metadata": {},
   "outputs": [],
   "source": [
    "pmi = []\n",
    "for (a, n), row in adj_noun.iterrows():\n",
    "    pmi.append({'adj': a, 'noun': n, 'pmi': np.log(row.p / (adj.loc[a].p * noun.loc[n].p))})\n",
    "pmi_an = pd.DataFrame(pmi)\n",
    "pmi_an.set_index(['adj', 'noun'], inplace=True)"
   ]
  },
  {
   "cell_type": "code",
   "execution_count": null,
   "id": "1f63bc77",
   "metadata": {},
   "outputs": [
    {
     "data": {
      "text/html": [
       "<div>\n",
       "<style scoped>\n",
       "    .dataframe tbody tr th:only-of-type {\n",
       "        vertical-align: middle;\n",
       "    }\n",
       "\n",
       "    .dataframe tbody tr th {\n",
       "        vertical-align: top;\n",
       "    }\n",
       "\n",
       "    .dataframe thead th {\n",
       "        text-align: right;\n",
       "    }\n",
       "</style>\n",
       "<table border=\"1\" class=\"dataframe\">\n",
       "  <thead>\n",
       "    <tr style=\"text-align: right;\">\n",
       "      <th></th>\n",
       "      <th></th>\n",
       "      <th>pmi</th>\n",
       "    </tr>\n",
       "    <tr>\n",
       "      <th>adj</th>\n",
       "      <th>noun</th>\n",
       "      <th></th>\n",
       "    </tr>\n",
       "  </thead>\n",
       "  <tbody>\n",
       "    <tr>\n",
       "      <th>timely</th>\n",
       "      <th>manner</th>\n",
       "      <td>8.098920</td>\n",
       "    </tr>\n",
       "    <tr>\n",
       "      <th>sour</th>\n",
       "      <th>cream</th>\n",
       "      <td>7.336935</td>\n",
       "    </tr>\n",
       "    <tr>\n",
       "      <th>top</th>\n",
       "      <th>notch</th>\n",
       "      <td>6.961756</td>\n",
       "    </tr>\n",
       "    <tr>\n",
       "      <th>french</th>\n",
       "      <th>toast</th>\n",
       "      <td>6.954781</td>\n",
       "    </tr>\n",
       "    <tr>\n",
       "      <th>front</th>\n",
       "      <th>desk</th>\n",
       "      <td>6.843440</td>\n",
       "    </tr>\n",
       "  </tbody>\n",
       "</table>\n",
       "</div>"
      ],
      "text/plain": [
       "                    pmi\n",
       "adj    noun            \n",
       "timely manner  8.098920\n",
       "sour   cream   7.336935\n",
       "top    notch   6.961756\n",
       "french toast   6.954781\n",
       "front  desk    6.843440"
      ]
     },
     "execution_count": 28,
     "metadata": {},
     "output_type": "execute_result"
    }
   ],
   "source": [
    "pmi_an.sort_values('pmi', ascending=False).head()"
   ]
  },
  {
   "cell_type": "markdown",
   "id": "2a4d84b2",
   "metadata": {},
   "source": [
    "#### Category-noun PMI"
   ]
  },
  {
   "cell_type": "code",
   "execution_count": null,
   "id": "404cad86",
   "metadata": {},
   "outputs": [],
   "source": [
    "Scat = S.groupby(['category', 'noun']).count().reset_index()[['category', 'noun', 'doc']]"
   ]
  },
  {
   "cell_type": "code",
   "execution_count": null,
   "id": "ec539b1e",
   "metadata": {},
   "outputs": [],
   "source": [
    "cat_noun = Scat[Scat.doc > 10].copy()\n",
    "cat_p = pd.DataFrame(cat_noun.groupby('category')['doc'].sum())\n",
    "cat_p = cat_p[cat_p.doc > 10]\n",
    "noun_p = pd.DataFrame(cat_noun.groupby('noun')['doc'].sum())\n",
    "noun_p = noun_p[noun_p.doc > 10]"
   ]
  },
  {
   "cell_type": "code",
   "execution_count": null,
   "id": "cef24202",
   "metadata": {},
   "outputs": [],
   "source": [
    "cat_noun_sum = cat_noun.doc.sum()\n",
    "cat_noun['p'] = cat_noun.doc / cat_noun_sum\n",
    "cat_p['p'] = cat_p.doc / cat_p.doc.sum()\n",
    "noun_p['p'] = noun_p.doc / noun_p.doc.sum()"
   ]
  },
  {
   "cell_type": "code",
   "execution_count": null,
   "id": "6f197303",
   "metadata": {},
   "outputs": [],
   "source": [
    "pmi = []\n",
    "for i, row in cat_noun.iterrows():\n",
    "    pmi.append({'category': row['category'], \n",
    "                'noun': row['noun'], \n",
    "                'pmi': np.log(\n",
    "                    row.p / (cat_p.loc[row['category']].p * noun_p.loc[row['noun']].p))})\n",
    "pmi_cat = pd.DataFrame(pmi)\n",
    "pmi_cat.set_index(['category', 'noun'], inplace=True)"
   ]
  },
  {
   "cell_type": "code",
   "execution_count": null,
   "id": "bfccf4e8",
   "metadata": {},
   "outputs": [
    {
     "data": {
      "text/html": [
       "<div>\n",
       "<style scoped>\n",
       "    .dataframe tbody tr th:only-of-type {\n",
       "        vertical-align: middle;\n",
       "    }\n",
       "\n",
       "    .dataframe tbody tr th {\n",
       "        vertical-align: top;\n",
       "    }\n",
       "\n",
       "    .dataframe thead th {\n",
       "        text-align: right;\n",
       "    }\n",
       "</style>\n",
       "<table border=\"1\" class=\"dataframe\">\n",
       "  <thead>\n",
       "    <tr style=\"text-align: right;\">\n",
       "      <th></th>\n",
       "      <th></th>\n",
       "      <th>pmi</th>\n",
       "    </tr>\n",
       "    <tr>\n",
       "      <th>category</th>\n",
       "      <th>noun</th>\n",
       "      <th></th>\n",
       "    </tr>\n",
       "  </thead>\n",
       "  <tbody>\n",
       "    <tr>\n",
       "      <th>Contractors</th>\n",
       "      <th>tub</th>\n",
       "      <td>7.189136</td>\n",
       "    </tr>\n",
       "    <tr>\n",
       "      <th>Pets</th>\n",
       "      <th>vet</th>\n",
       "      <td>7.148314</td>\n",
       "    </tr>\n",
       "    <tr>\n",
       "      <th>Yoga</th>\n",
       "      <th>studio</th>\n",
       "      <td>6.811842</td>\n",
       "    </tr>\n",
       "    <tr>\n",
       "      <th>Car Dealers</th>\n",
       "      <th>car</th>\n",
       "      <td>6.653618</td>\n",
       "    </tr>\n",
       "    <tr>\n",
       "      <th>Donuts</th>\n",
       "      <th>donut</th>\n",
       "      <td>6.560528</td>\n",
       "    </tr>\n",
       "    <tr>\n",
       "      <th>...</th>\n",
       "      <th>...</th>\n",
       "      <td>...</td>\n",
       "    </tr>\n",
       "    <tr>\n",
       "      <th>Arts &amp; Entertainment</th>\n",
       "      <th>food</th>\n",
       "      <td>-0.755993</td>\n",
       "    </tr>\n",
       "    <tr>\n",
       "      <th>Restaurants</th>\n",
       "      <th>job</th>\n",
       "      <td>-0.841119</td>\n",
       "    </tr>\n",
       "    <tr>\n",
       "      <th>Shopping</th>\n",
       "      <th>food</th>\n",
       "      <td>-1.390122</td>\n",
       "    </tr>\n",
       "    <tr>\n",
       "      <th>Restaurants</th>\n",
       "      <th>room</th>\n",
       "      <td>-1.580953</td>\n",
       "    </tr>\n",
       "    <tr>\n",
       "      <th>Hotels &amp; Travel</th>\n",
       "      <th>food</th>\n",
       "      <td>-1.593143</td>\n",
       "    </tr>\n",
       "  </tbody>\n",
       "</table>\n",
       "<p>1105 rows × 1 columns</p>\n",
       "</div>"
      ],
      "text/plain": [
       "                                  pmi\n",
       "category             noun            \n",
       "Contractors          tub     7.189136\n",
       "Pets                 vet     7.148314\n",
       "Yoga                 studio  6.811842\n",
       "Car Dealers          car     6.653618\n",
       "Donuts               donut   6.560528\n",
       "...                               ...\n",
       "Arts & Entertainment food   -0.755993\n",
       "Restaurants          job    -0.841119\n",
       "Shopping             food   -1.390122\n",
       "Restaurants          room   -1.580953\n",
       "Hotels & Travel      food   -1.593143\n",
       "\n",
       "[1105 rows x 1 columns]"
      ]
     },
     "execution_count": 33,
     "metadata": {},
     "output_type": "execute_result"
    }
   ],
   "source": [
    "pmi_cat.sort_values('pmi', ascending=False)"
   ]
  },
  {
   "cell_type": "markdown",
   "id": "8eb67d3b",
   "metadata": {},
   "source": [
    "## Use PMI data as features\n",
    "For each document we have now:\n",
    "\n",
    "1. A set of categories\n",
    "2. A set of adjective-noun pairs\n",
    "3. The stars (our target)\n",
    "\n",
    "We want to use (1.) and (2.) as features to estimate (3.)"
   ]
  },
  {
   "cell_type": "markdown",
   "id": "556b4460",
   "metadata": {},
   "source": [
    "### Continuous approch (using Vader and Regression)\n",
    "(3.) is interpreted as a numerical value that we want to estimate starting from the polarity scores associated with the adjectives. The polarity scores are weighted by the PMI of the corresponding nouns given the category and the PMI of the adjective-noun pair."
   ]
  },
  {
   "cell_type": "code",
   "execution_count": null,
   "id": "7da659e3",
   "metadata": {},
   "outputs": [],
   "source": [
    "from nltk.sentiment.vader import SentimentIntensityAnalyzer"
   ]
  },
  {
   "cell_type": "code",
   "execution_count": null,
   "id": "4e8330ca",
   "metadata": {},
   "outputs": [],
   "source": [
    "sid = SentimentIntensityAnalyzer()"
   ]
  },
  {
   "cell_type": "code",
   "execution_count": null,
   "id": "c5f96650",
   "metadata": {},
   "outputs": [
    {
     "data": {
      "text/plain": [
       "{'neg': 0.0, 'neu': 0.196, 'pos': 0.804, 'compound': 0.6249}"
      ]
     },
     "execution_count": 36,
     "metadata": {},
     "output_type": "execute_result"
    }
   ],
   "source": [
    "sid.polarity_scores('great service')"
   ]
  },
  {
   "cell_type": "code",
   "execution_count": null,
   "id": "d4da2986",
   "metadata": {},
   "outputs": [
    {
     "data": {
      "application/vnd.jupyter.widget-view+json": {
       "model_id": "5ce92a5dc3e24d6394bc384bee8e0821",
       "version_major": 2,
       "version_minor": 0
      },
      "text/plain": [
       "  0%|          | 0/97946 [00:00<?, ?it/s]"
      ]
     },
     "metadata": {},
     "output_type": "display_data"
    }
   ],
   "source": [
    "features = []\n",
    "running = list(S.iterrows())\n",
    "for i, row in tqdm(running):\n",
    "    doc = row['doc']\n",
    "    cat = row['category']\n",
    "    a = row['adj']\n",
    "    n = row['noun']\n",
    "    try:\n",
    "        pmi_n = pmi_cat.loc[(cat, n)].pmi\n",
    "        pmi_a = pmi_an.loc[(a, n)].pmi\n",
    "        polarity = sid.polarity_scores(\"{} {}\".format(a, n))\n",
    "        pos = polarity['pos'] * pmi_n * pmi_a\n",
    "        neg = polarity['neg'] * pmi_n * pmi_a\n",
    "        neu = polarity['neu'] * pmi_n * pmi_a\n",
    "        features.append({\n",
    "            'doc': doc, 'stars': stars[doc], \n",
    "            'pos': pos, 'neg': neg, 'neu': neu\n",
    "        })\n",
    "    except KeyError:\n",
    "        pass\n",
    "train_data = pd.DataFrame(features)"
   ]
  },
  {
   "cell_type": "markdown",
   "id": "26647607",
   "metadata": {},
   "source": [
    "#### Aggregate data and split train and test"
   ]
  },
  {
   "cell_type": "code",
   "execution_count": null,
   "id": "1ce1e9fa",
   "metadata": {},
   "outputs": [],
   "source": [
    "from sklearn.model_selection import train_test_split"
   ]
  },
  {
   "cell_type": "code",
   "execution_count": null,
   "id": "f2914cd0",
   "metadata": {},
   "outputs": [],
   "source": [
    "T = train_data.groupby('doc').mean()\n",
    "X_train, X_test, y_train, y_test = train_test_split(T, T.stars.values, test_size=0.2, random_state=42)"
   ]
  },
  {
   "cell_type": "markdown",
   "id": "a3e4fa82",
   "metadata": {},
   "source": [
    "####  Roughly balance the train dataset"
   ]
  },
  {
   "cell_type": "code",
   "execution_count": null,
   "id": "f906bb08",
   "metadata": {},
   "outputs": [
    {
     "data": {
      "text/html": [
       "<div>\n",
       "<style scoped>\n",
       "    .dataframe tbody tr th:only-of-type {\n",
       "        vertical-align: middle;\n",
       "    }\n",
       "\n",
       "    .dataframe tbody tr th {\n",
       "        vertical-align: top;\n",
       "    }\n",
       "\n",
       "    .dataframe thead th {\n",
       "        text-align: right;\n",
       "    }\n",
       "</style>\n",
       "<table border=\"1\" class=\"dataframe\">\n",
       "  <thead>\n",
       "    <tr style=\"text-align: right;\">\n",
       "      <th></th>\n",
       "      <th>pos</th>\n",
       "      <th>neg</th>\n",
       "      <th>neu</th>\n",
       "    </tr>\n",
       "    <tr>\n",
       "      <th>stars</th>\n",
       "      <th></th>\n",
       "      <th></th>\n",
       "      <th></th>\n",
       "    </tr>\n",
       "  </thead>\n",
       "  <tbody>\n",
       "    <tr>\n",
       "      <th>1.0</th>\n",
       "      <td>162</td>\n",
       "      <td>162</td>\n",
       "      <td>162</td>\n",
       "    </tr>\n",
       "    <tr>\n",
       "      <th>2.0</th>\n",
       "      <td>115</td>\n",
       "      <td>115</td>\n",
       "      <td>115</td>\n",
       "    </tr>\n",
       "    <tr>\n",
       "      <th>3.0</th>\n",
       "      <td>186</td>\n",
       "      <td>186</td>\n",
       "      <td>186</td>\n",
       "    </tr>\n",
       "    <tr>\n",
       "      <th>4.0</th>\n",
       "      <td>394</td>\n",
       "      <td>394</td>\n",
       "      <td>394</td>\n",
       "    </tr>\n",
       "    <tr>\n",
       "      <th>5.0</th>\n",
       "      <td>601</td>\n",
       "      <td>601</td>\n",
       "      <td>601</td>\n",
       "    </tr>\n",
       "  </tbody>\n",
       "</table>\n",
       "</div>"
      ],
      "text/plain": [
       "       pos  neg  neu\n",
       "stars               \n",
       "1.0    162  162  162\n",
       "2.0    115  115  115\n",
       "3.0    186  186  186\n",
       "4.0    394  394  394\n",
       "5.0    601  601  601"
      ]
     },
     "execution_count": 40,
     "metadata": {},
     "output_type": "execute_result"
    }
   ],
   "source": [
    "X_train.groupby('stars').count()"
   ]
  },
  {
   "cell_type": "code",
   "execution_count": null,
   "id": "3e327828",
   "metadata": {},
   "outputs": [
    {
     "data": {
      "text/html": [
       "<div>\n",
       "<style scoped>\n",
       "    .dataframe tbody tr th:only-of-type {\n",
       "        vertical-align: middle;\n",
       "    }\n",
       "\n",
       "    .dataframe tbody tr th {\n",
       "        vertical-align: top;\n",
       "    }\n",
       "\n",
       "    .dataframe thead th {\n",
       "        text-align: right;\n",
       "    }\n",
       "</style>\n",
       "<table border=\"1\" class=\"dataframe\">\n",
       "  <thead>\n",
       "    <tr style=\"text-align: right;\">\n",
       "      <th></th>\n",
       "      <th>pos</th>\n",
       "      <th>neg</th>\n",
       "      <th>neu</th>\n",
       "    </tr>\n",
       "    <tr>\n",
       "      <th>stars</th>\n",
       "      <th></th>\n",
       "      <th></th>\n",
       "      <th></th>\n",
       "    </tr>\n",
       "  </thead>\n",
       "  <tbody>\n",
       "    <tr>\n",
       "      <th>1.0</th>\n",
       "      <td>162</td>\n",
       "      <td>162</td>\n",
       "      <td>162</td>\n",
       "    </tr>\n",
       "    <tr>\n",
       "      <th>2.0</th>\n",
       "      <td>115</td>\n",
       "      <td>115</td>\n",
       "      <td>115</td>\n",
       "    </tr>\n",
       "    <tr>\n",
       "      <th>3.0</th>\n",
       "      <td>186</td>\n",
       "      <td>186</td>\n",
       "      <td>186</td>\n",
       "    </tr>\n",
       "    <tr>\n",
       "      <th>4.0</th>\n",
       "      <td>200</td>\n",
       "      <td>200</td>\n",
       "      <td>200</td>\n",
       "    </tr>\n",
       "    <tr>\n",
       "      <th>5.0</th>\n",
       "      <td>200</td>\n",
       "      <td>200</td>\n",
       "      <td>200</td>\n",
       "    </tr>\n",
       "  </tbody>\n",
       "</table>\n",
       "</div>"
      ],
      "text/plain": [
       "       pos  neg  neu\n",
       "stars               \n",
       "1.0    162  162  162\n",
       "2.0    115  115  115\n",
       "3.0    186  186  186\n",
       "4.0    200  200  200\n",
       "5.0    200  200  200"
      ]
     },
     "execution_count": 41,
     "metadata": {},
     "output_type": "execute_result"
    }
   ],
   "source": [
    "X_train_b = X_train.groupby('stars').head(200)\n",
    "X_train_b.groupby('stars').count()"
   ]
  },
  {
   "cell_type": "code",
   "execution_count": null,
   "id": "cd755362",
   "metadata": {},
   "outputs": [],
   "source": [
    "y_train = X_train_b.stars.values\n",
    "X_train = X_train_b[['pos', 'neg', 'neu']]\n",
    "X_test = X_test[['pos', 'neg', 'neu']]"
   ]
  },
  {
   "cell_type": "markdown",
   "id": "f1a08389",
   "metadata": {},
   "source": [
    "#### Regression"
   ]
  },
  {
   "cell_type": "code",
   "execution_count": null,
   "id": "0292395d",
   "metadata": {},
   "outputs": [],
   "source": [
    "from sklearn.linear_model import LinearRegression\n",
    "from sklearn.preprocessing import MinMaxScaler\n",
    "from sklearn.metrics import mean_squared_error"
   ]
  },
  {
   "cell_type": "code",
   "execution_count": null,
   "id": "bd077751",
   "metadata": {},
   "outputs": [],
   "source": [
    "Xs_train = MinMaxScaler().fit_transform(X_train)\n",
    "Xs_test = MinMaxScaler().fit_transform(X_test)"
   ]
  },
  {
   "cell_type": "code",
   "execution_count": null,
   "id": "0b30114b",
   "metadata": {},
   "outputs": [],
   "source": [
    "reg = LinearRegression()\n",
    "reg = reg.fit(Xs_train, y_train)"
   ]
  },
  {
   "cell_type": "code",
   "execution_count": null,
   "id": "999b4293",
   "metadata": {},
   "outputs": [],
   "source": [
    "train_prediction = reg.predict(Xs_train)\n",
    "test_prediction = reg.predict(Xs_test)"
   ]
  },
  {
   "cell_type": "code",
   "execution_count": null,
   "id": "9c0231f4",
   "metadata": {},
   "outputs": [
    {
     "name": "stdout",
     "output_type": "stream",
     "text": [
      "1.899765739100461\n",
      "2.0229868161699716\n"
     ]
    }
   ],
   "source": [
    "print(mean_squared_error(y_train, train_prediction))\n",
    "print(mean_squared_error(y_test, test_prediction))"
   ]
  },
  {
   "cell_type": "code",
   "execution_count": null,
   "id": "405ac3bf",
   "metadata": {},
   "outputs": [],
   "source": [
    "import matplotlib.pyplot as plt"
   ]
  },
  {
   "cell_type": "code",
   "execution_count": null,
   "id": "c5d8abf6",
   "metadata": {},
   "outputs": [
    {
     "data": {
      "image/png": "[encoded data removed]",
      "text/plain": [
       "<Figure size 864x432 with 2 Axes>"
      ]
     },
     "metadata": {
      "needs_background": "light"
     },
     "output_type": "display_data"
    }
   ],
   "source": [
    "fig, ax = plt.subplots(figsize=(12, 6), ncols=2)\n",
    "ax[0].scatter(train_prediction, y_train, alpha=.4)\n",
    "ax[1].scatter(test_prediction, y_test, alpha=.4)\n",
    "plt.tight_layout()\n",
    "plt.show()"
   ]
  },
  {
   "cell_type": "markdown",
   "id": "f8f5ed6b",
   "metadata": {},
   "source": [
    "### Categorical approach (Naive Bayes)\n",
    "(3.) is interpreted as a categorical variable $S$ and we aim at estimating $P(S \\mid category, adjnoun)$, given that:\n",
    "\n",
    "$$\n",
    "P(S \\mid category, adjnoun) = \\frac{P(S)P(category, adjnoun \\mid S)}{P(category, adjnoun)}\n",
    "$$"
   ]
  },
  {
   "cell_type": "code",
   "execution_count": null,
   "id": "28285adc",
   "metadata": {},
   "outputs": [],
   "source": [
    "S['stars'] = [stars[x] for x in S.doc.values]"
   ]
  },
  {
   "cell_type": "code",
   "execution_count": null,
   "id": "70d77c24",
   "metadata": {},
   "outputs": [],
   "source": [
    "X_train, X_test, y_train, y_test = train_test_split(S, S.stars.values, test_size=0.2, random_state=42)"
   ]
  },
  {
   "cell_type": "code",
   "execution_count": null,
   "id": "0ffbd469",
   "metadata": {},
   "outputs": [
    {
     "data": {
      "text/html": [
       "<div>\n",
       "<style scoped>\n",
       "    .dataframe tbody tr th:only-of-type {\n",
       "        vertical-align: middle;\n",
       "    }\n",
       "\n",
       "    .dataframe tbody tr th {\n",
       "        vertical-align: top;\n",
       "    }\n",
       "\n",
       "    .dataframe thead th {\n",
       "        text-align: right;\n",
       "    }\n",
       "</style>\n",
       "<table border=\"1\" class=\"dataframe\">\n",
       "  <thead>\n",
       "    <tr style=\"text-align: right;\">\n",
       "      <th></th>\n",
       "      <th>doc</th>\n",
       "      <th>category</th>\n",
       "      <th>adj</th>\n",
       "      <th>noun</th>\n",
       "    </tr>\n",
       "    <tr>\n",
       "      <th>stars</th>\n",
       "      <th></th>\n",
       "      <th></th>\n",
       "      <th></th>\n",
       "      <th></th>\n",
       "    </tr>\n",
       "  </thead>\n",
       "  <tbody>\n",
       "    <tr>\n",
       "      <th>1</th>\n",
       "      <td>2000</td>\n",
       "      <td>2000</td>\n",
       "      <td>2000</td>\n",
       "      <td>2000</td>\n",
       "    </tr>\n",
       "    <tr>\n",
       "      <th>2</th>\n",
       "      <td>2000</td>\n",
       "      <td>2000</td>\n",
       "      <td>2000</td>\n",
       "      <td>2000</td>\n",
       "    </tr>\n",
       "    <tr>\n",
       "      <th>3</th>\n",
       "      <td>2000</td>\n",
       "      <td>2000</td>\n",
       "      <td>2000</td>\n",
       "      <td>2000</td>\n",
       "    </tr>\n",
       "    <tr>\n",
       "      <th>4</th>\n",
       "      <td>2000</td>\n",
       "      <td>2000</td>\n",
       "      <td>2000</td>\n",
       "      <td>2000</td>\n",
       "    </tr>\n",
       "    <tr>\n",
       "      <th>5</th>\n",
       "      <td>2000</td>\n",
       "      <td>2000</td>\n",
       "      <td>2000</td>\n",
       "      <td>2000</td>\n",
       "    </tr>\n",
       "  </tbody>\n",
       "</table>\n",
       "</div>"
      ],
      "text/plain": [
       "        doc  category   adj  noun\n",
       "stars                            \n",
       "1      2000      2000  2000  2000\n",
       "2      2000      2000  2000  2000\n",
       "3      2000      2000  2000  2000\n",
       "4      2000      2000  2000  2000\n",
       "5      2000      2000  2000  2000"
      ]
     },
     "execution_count": 170,
     "metadata": {},
     "output_type": "execute_result"
    }
   ],
   "source": [
    "X_train_b = X_train.groupby('stars').head(2000)\n",
    "X_train_b.groupby('stars').count()"
   ]
  },
  {
   "cell_type": "code",
   "execution_count": null,
   "id": "fb0e6ab1",
   "metadata": {},
   "outputs": [
    {
     "data": {
      "text/html": [
       "<div>\n",
       "<style scoped>\n",
       "    .dataframe tbody tr th:only-of-type {\n",
       "        vertical-align: middle;\n",
       "    }\n",
       "\n",
       "    .dataframe tbody tr th {\n",
       "        vertical-align: top;\n",
       "    }\n",
       "\n",
       "    .dataframe thead th {\n",
       "        text-align: right;\n",
       "    }\n",
       "</style>\n",
       "<table border=\"1\" class=\"dataframe\">\n",
       "  <thead>\n",
       "    <tr style=\"text-align: right;\">\n",
       "      <th></th>\n",
       "      <th>doc</th>\n",
       "      <th>category</th>\n",
       "      <th>adj</th>\n",
       "      <th>noun</th>\n",
       "      <th>stars</th>\n",
       "    </tr>\n",
       "  </thead>\n",
       "  <tbody>\n",
       "    <tr>\n",
       "      <th>47158</th>\n",
       "      <td>1431</td>\n",
       "      <td>Breweries</td>\n",
       "      <td>good</td>\n",
       "      <td>waitress</td>\n",
       "      <td>3</td>\n",
       "    </tr>\n",
       "    <tr>\n",
       "      <th>56590</th>\n",
       "      <td>1716</td>\n",
       "      <td>Sandwiches</td>\n",
       "      <td>clutch</td>\n",
       "      <td>hour</td>\n",
       "      <td>5</td>\n",
       "    </tr>\n",
       "    <tr>\n",
       "      <th>73304</th>\n",
       "      <td>2225</td>\n",
       "      <td>Italian</td>\n",
       "      <td>exceptional</td>\n",
       "      <td>food</td>\n",
       "      <td>5</td>\n",
       "    </tr>\n",
       "    <tr>\n",
       "      <th>25636</th>\n",
       "      <td>772</td>\n",
       "      <td>Pizza</td>\n",
       "      <td>non</td>\n",
       "      <td>clientele</td>\n",
       "      <td>5</td>\n",
       "    </tr>\n",
       "    <tr>\n",
       "      <th>51767</th>\n",
       "      <td>1562</td>\n",
       "      <td>Nightlife</td>\n",
       "      <td>several</td>\n",
       "      <td>minute</td>\n",
       "      <td>1</td>\n",
       "    </tr>\n",
       "  </tbody>\n",
       "</table>\n",
       "</div>"
      ],
      "text/plain": [
       "        doc    category          adj       noun  stars\n",
       "47158  1431   Breweries         good   waitress      3\n",
       "56590  1716  Sandwiches       clutch       hour      5\n",
       "73304  2225     Italian  exceptional       food      5\n",
       "25636   772       Pizza          non  clientele      5\n",
       "51767  1562   Nightlife      several     minute      1"
      ]
     },
     "execution_count": 171,
     "metadata": {},
     "output_type": "execute_result"
    }
   ],
   "source": [
    "X_train = X_train_b.copy()\n",
    "X_train.head()"
   ]
  },
  {
   "cell_type": "markdown",
   "id": "2540b31b",
   "metadata": {},
   "source": [
    "#### Prior for stars"
   ]
  },
  {
   "cell_type": "code",
   "execution_count": null,
   "id": "6140fbd8",
   "metadata": {},
   "outputs": [],
   "source": [
    "stars_p = X_train.groupby(['doc']).first().groupby('stars').count()\n",
    "stars_p['p'] = stars_p.category / stars_p.category.sum()"
   ]
  },
  {
   "cell_type": "markdown",
   "id": "5845bfa4",
   "metadata": {},
   "source": [
    "#### Likelihood of category and adjnoun for stars"
   ]
  },
  {
   "cell_type": "code",
   "execution_count": null,
   "id": "7a569c2a",
   "metadata": {},
   "outputs": [],
   "source": [
    "cat_an_p_stars = X_train.groupby(['stars', 'category', 'adj', 'noun']).count()\n",
    "cat_an_p_stars['p'] = cat_an_p_stars.doc.values / cat_an_p_stars.doc.values.sum()"
   ]
  },
  {
   "cell_type": "markdown",
   "id": "e7c2da83",
   "metadata": {},
   "source": [
    "#### Probability of category and adjnoun"
   ]
  },
  {
   "cell_type": "code",
   "execution_count": null,
   "id": "b2d6c056",
   "metadata": {},
   "outputs": [],
   "source": [
    "cat_an_p = X_train.groupby(['category', 'adj', 'noun']).count()\n",
    "cat_an_p['p'] = cat_an_p.doc.values / cat_an_p.doc.sum()"
   ]
  },
  {
   "cell_type": "markdown",
   "id": "072546dc",
   "metadata": {},
   "source": [
    "#### Predict"
   ]
  },
  {
   "cell_type": "code",
   "execution_count": null,
   "id": "c0bdd674",
   "metadata": {},
   "outputs": [],
   "source": [
    "from collections import defaultdict"
   ]
  },
  {
   "cell_type": "code",
   "execution_count": null,
   "id": "fb1dc82a",
   "metadata": {},
   "outputs": [],
   "source": [
    "test_data = defaultdict(list)\n",
    "for i, row in X_test.iterrows():\n",
    "    test_data[row['doc']].append((\n",
    "        row['stars'], row['category'], row['adj'], row['noun']\n",
    "    ))"
   ]
  },
  {
   "cell_type": "code",
   "execution_count": null,
   "id": "6be87a21",
   "metadata": {},
   "outputs": [
    {
     "data": {
      "application/vnd.jupyter.widget-view+json": {
       "model_id": "e17eb75411194627bfe552d2d5820013",
       "version_major": 2,
       "version_minor": 0
      },
      "text/plain": [
       "  0%|          | 0/2732 [00:00<?, ?it/s]"
      ]
     },
     "metadata": {},
     "output_type": "display_data"
    }
   ],
   "source": [
    "use_prior = True\n",
    "y_true, prediction = [], []\n",
    "running = list(test_data.items())\n",
    "for doc, doc_data in tqdm(running):\n",
    "    y_true.append(doc_data[0][0])\n",
    "    pred = dict([(o, []) for o in range(1, 6)])\n",
    "    for option in range(1, 6):\n",
    "        prior = np.log(stars_p.loc[option].p)\n",
    "        likelihoods = []\n",
    "        norms = []\n",
    "        for _, category, adjective, noun in doc_data:\n",
    "            try:\n",
    "                likelihood = np.log(cat_an_p_stars.loc[(option, category, adjective, noun)].p)\n",
    "            except KeyError:\n",
    "                likelihood = np.log(0.00001)\n",
    "            try:\n",
    "                norm = np.log(cat_an_p.loc[(category, adjective, noun)].p)\n",
    "            except KeyError:\n",
    "                norm = np.log(0.00001)\n",
    "            likelihoods.append(likelihood)\n",
    "            norms.append(norm)\n",
    "        if use_prior:\n",
    "            pred[option] = (prior + np.sum(likelihoods)) - np.sum(norms)\n",
    "        else:\n",
    "            pred[option] = np.sum(likelihoods) - np.sum(norms)\n",
    "    prediction.append(pred)\n",
    "prediction = pd.DataFrame(prediction)"
   ]
  },
  {
   "cell_type": "code",
   "execution_count": null,
   "id": "5898292d",
   "metadata": {},
   "outputs": [],
   "source": [
    "y_pred = prediction.idxmax(axis=\"columns\").astype(int)"
   ]
  },
  {
   "cell_type": "markdown",
   "id": "113756f0",
   "metadata": {},
   "source": [
    "#### Evaluation"
   ]
  },
  {
   "cell_type": "code",
   "execution_count": null,
   "id": "069f618d",
   "metadata": {},
   "outputs": [],
   "source": [
    "from sklearn.metrics import classification_report, confusion_matrix, ConfusionMatrixDisplay"
   ]
  },
  {
   "cell_type": "code",
   "execution_count": null,
   "id": "3bddb973",
   "metadata": {},
   "outputs": [
    {
     "name": "stdout",
     "output_type": "stream",
     "text": [
      "              precision    recall  f1-score   support\n",
      "\n",
      "           1       0.29      0.11      0.16       382\n",
      "           2       0.24      0.09      0.13       225\n",
      "           3       0.18      0.10      0.13       332\n",
      "           4       0.35      0.14      0.20       646\n",
      "           5       0.45      0.81      0.58      1147\n",
      "\n",
      "    accuracy                           0.41      2732\n",
      "   macro avg       0.30      0.25      0.24      2732\n",
      "weighted avg       0.36      0.41      0.34      2732\n",
      "\n"
     ]
    }
   ],
   "source": [
    "print(classification_report(y_true, y_pred))"
   ]
  },
  {
   "cell_type": "code",
   "execution_count": null,
   "id": "c4dc30b1",
   "metadata": {},
   "outputs": [
    {
     "data": {
      "image/png": "[encoded data removed]",
      "text/plain": [
       "<Figure size 432x432 with 1 Axes>"
      ]
     },
     "metadata": {
      "needs_background": "light"
     },
     "output_type": "display_data"
    }
   ],
   "source": [
    "cm = confusion_matrix(y_true, y_pred)\n",
    "cmd = ConfusionMatrixDisplay(cm)\n",
    "fig, ax = plt.subplots(figsize=(6, 6))\n",
    "cmd.plot(ax=ax, cmap='Blues', colorbar=False)\n",
    "plt.tight_layout()\n",
    "plt.show()"
   ]
  },
  {
   "cell_type": "markdown",
   "id": "ef87c393",
   "metadata": {},
   "source": [
    "## STC\n",
    "[https://sparsetensorclassifier.org/](https://sparsetensorclassifier.org/)"
   ]
  },
  {
   "cell_type": "code",
   "execution_count": null,
   "id": "f9699472",
   "metadata": {},
   "outputs": [],
   "source": [
    "from stc import SparseTensorClassifier"
   ]
  },
  {
   "cell_type": "code",
   "execution_count": null,
   "id": "eabccc6d",
   "metadata": {},
   "outputs": [],
   "source": [
    "S['stars'] = [stars[x] for x in S.doc.values]\n",
    "X_train, X_test, y_train, y_test = train_test_split(S, S.stars.values, test_size=0.2, random_state=42)"
   ]
  },
  {
   "cell_type": "code",
   "execution_count": null,
   "id": "baa77516",
   "metadata": {},
   "outputs": [],
   "source": [
    "train_data = defaultdict(lambda: defaultdict(list))\n",
    "for i, row in X_train.iterrows():\n",
    "    train_data[row['doc']]['adjnoun'].append(\"{} {}\".format(row['adj'], row['noun']))\n",
    "    train_data[row['doc']]['stars'].append(row['stars'])"
   ]
  },
  {
   "cell_type": "code",
   "execution_count": null,
   "id": "7ce2ac8e",
   "metadata": {},
   "outputs": [],
   "source": [
    "tdata = []\n",
    "for doc, data in train_data.items():\n",
    "    tdata.append({'adjnoun': data['adjnoun'], 'stars': list(set(data['stars']))})"
   ]
  },
  {
   "cell_type": "code",
   "execution_count": null,
   "id": "7428f661",
   "metadata": {},
   "outputs": [],
   "source": [
    "STC = SparseTensorClassifier(targets=['stars'], features=['adjnoun'])"
   ]
  },
  {
   "cell_type": "code",
   "execution_count": null,
   "id": "62047a75",
   "metadata": {},
   "outputs": [
    {
     "name": "stdout",
     "output_type": "stream",
     "text": [
      "[============================================================] 100.0% Fitting (00:00:00.94/00:00:00.94)\r"
     ]
    }
   ],
   "source": [
    "STC.fit(tdata)"
   ]
  },
  {
   "cell_type": "code",
   "execution_count": null,
   "id": "7047055f",
   "metadata": {},
   "outputs": [],
   "source": [
    "test_data = defaultdict(lambda: defaultdict(list))\n",
    "for i, row in X_test.iterrows():\n",
    "    test_data[row['doc']]['adjnoun'].append(\"{} {}\".format(row['adj'], row['noun']))\n",
    "    test_data[row['doc']]['stars'].append(row['stars'])\n",
    "xdata = []\n",
    "for doc, data in test_data.items():\n",
    "    xdata.append({'adjnoun': data['adjnoun'], 'stars': list(set(data['stars']))})"
   ]
  },
  {
   "cell_type": "code",
   "execution_count": null,
   "id": "f9bc4562",
   "metadata": {},
   "outputs": [
    {
     "name": "stdout",
     "output_type": "stream",
     "text": [
      "[============================================================] 100.0% Predicting (00:00:00.68/00:00:00.68)\r"
     ]
    }
   ],
   "source": [
    "labels, probability, explainability = STC.predict(xdata)"
   ]
  },
  {
   "cell_type": "code",
   "execution_count": null,
   "id": "36d40d8b",
   "metadata": {},
   "outputs": [],
   "source": [
    "y_true = [x['stars'][0] for x in xdata]\n",
    "y_pred = [int(x) for x in labels.stars.values]"
   ]
  },
  {
   "cell_type": "code",
   "execution_count": null,
   "id": "04c90cfc",
   "metadata": {},
   "outputs": [
    {
     "name": "stdout",
     "output_type": "stream",
     "text": [
      "              precision    recall  f1-score   support\n",
      "\n",
      "           1       0.91      0.96      0.93       382\n",
      "           2       0.84      0.95      0.89       225\n",
      "           3       0.86      0.94      0.90       332\n",
      "           4       0.93      0.91      0.92       646\n",
      "           5       0.96      0.91      0.94      1147\n",
      "\n",
      "    accuracy                           0.92      2732\n",
      "   macro avg       0.90      0.93      0.92      2732\n",
      "weighted avg       0.93      0.92      0.92      2732\n",
      "\n"
     ]
    }
   ],
   "source": [
    "print(classification_report(y_true, y_pred))"
   ]
  },
  {
   "cell_type": "code",
   "execution_count": null,
   "id": "3ddb550d",
   "metadata": {},
   "outputs": [
    {
     "name": "stdout",
     "output_type": "stream",
     "text": [
      "1 ['bad service', 'friendly staff', 'terrible service', 'bad experience', 'good food']\n",
      "2 ['great service', 'good food', 'great food', 'good service', 'bad service']\n",
      "3 ['good food', 'friendly staff', 'great place', 'good service', 'great service']\n",
      "4 ['friendly staff', 'great place', 'good food', 'great service', 'delicious food']\n",
      "5 ['friendly staff', 'great place', 'great service', 'delicious food', 'good food']\n"
     ]
    }
   ],
   "source": [
    "E = explainability.reset_index()\n",
    "G = E.groupby(['stars', 'features']).sum().reset_index()\n",
    "for star in range(1, 6):\n",
    "    top5 = G[G.stars == str(star)].sort_values('score', ascending=False).head()\n",
    "    print(star, [x.replace(\"adjnoun: \", '') for x in top5.features])"
   ]
  },
  {
   "cell_type": "markdown",
   "id": "60c9a27b",
   "metadata": {},
   "source": [
    "### STC discriminates useful adjectives from descriptive adjectives"
   ]
  },
  {
   "cell_type": "code",
   "execution_count": null,
   "id": "79321e52",
   "metadata": {},
   "outputs": [
    {
     "data": {
      "text/html": [
       "<div>\n",
       "<style scoped>\n",
       "    .dataframe tbody tr th:only-of-type {\n",
       "        vertical-align: middle;\n",
       "    }\n",
       "\n",
       "    .dataframe tbody tr th {\n",
       "        vertical-align: top;\n",
       "    }\n",
       "\n",
       "    .dataframe thead th {\n",
       "        text-align: right;\n",
       "    }\n",
       "</style>\n",
       "<table border=\"1\" class=\"dataframe\">\n",
       "  <thead>\n",
       "    <tr style=\"text-align: right;\">\n",
       "      <th></th>\n",
       "      <th>features</th>\n",
       "      <th>item</th>\n",
       "      <th>score</th>\n",
       "    </tr>\n",
       "  </thead>\n",
       "  <tbody>\n",
       "    <tr>\n",
       "      <th>2271</th>\n",
       "      <td>adjnoun: familiar component</td>\n",
       "      <td>88</td>\n",
       "      <td>0.000479</td>\n",
       "    </tr>\n",
       "    <tr>\n",
       "      <th>5041</th>\n",
       "      <td>adjnoun: mere fry</td>\n",
       "      <td>88</td>\n",
       "      <td>0.000479</td>\n",
       "    </tr>\n",
       "    <tr>\n",
       "      <th>842</th>\n",
       "      <td>adjnoun: blue collar</td>\n",
       "      <td>88</td>\n",
       "      <td>0.000479</td>\n",
       "    </tr>\n",
       "    <tr>\n",
       "      <th>8188</th>\n",
       "      <td>adjnoun: touristy pasta</td>\n",
       "      <td>88</td>\n",
       "      <td>0.000479</td>\n",
       "    </tr>\n",
       "    <tr>\n",
       "      <th>5276</th>\n",
       "      <td>adjnoun: mousse\\/brownie silo</td>\n",
       "      <td>88</td>\n",
       "      <td>0.000479</td>\n",
       "    </tr>\n",
       "    <tr>\n",
       "      <th>6473</th>\n",
       "      <td>adjnoun: pillowy bread</td>\n",
       "      <td>88</td>\n",
       "      <td>0.000479</td>\n",
       "    </tr>\n",
       "    <tr>\n",
       "      <th>2233</th>\n",
       "      <td>adjnoun: extreme prejudice</td>\n",
       "      <td>88</td>\n",
       "      <td>0.000479</td>\n",
       "    </tr>\n",
       "    <tr>\n",
       "      <th>4588</th>\n",
       "      <td>adjnoun: light portion</td>\n",
       "      <td>88</td>\n",
       "      <td>0.000479</td>\n",
       "    </tr>\n",
       "    <tr>\n",
       "      <th>8807</th>\n",
       "      <td>adjnoun: yellow rice</td>\n",
       "      <td>88</td>\n",
       "      <td>0.000479</td>\n",
       "    </tr>\n",
       "    <tr>\n",
       "      <th>1961</th>\n",
       "      <td>adjnoun: easy food</td>\n",
       "      <td>88</td>\n",
       "      <td>0.000479</td>\n",
       "    </tr>\n",
       "  </tbody>\n",
       "</table>\n",
       "</div>"
      ],
      "text/plain": [
       "                           features  item     score\n",
       "2271    adjnoun: familiar component    88  0.000479\n",
       "5041              adjnoun: mere fry    88  0.000479\n",
       "842            adjnoun: blue collar    88  0.000479\n",
       "8188        adjnoun: touristy pasta    88  0.000479\n",
       "5276  adjnoun: mousse\\/brownie silo    88  0.000479\n",
       "6473         adjnoun: pillowy bread    88  0.000479\n",
       "2233     adjnoun: extreme prejudice    88  0.000479\n",
       "4588         adjnoun: light portion    88  0.000479\n",
       "8807           adjnoun: yellow rice    88  0.000479\n",
       "1961             adjnoun: easy food    88  0.000479"
      ]
     },
     "execution_count": 218,
     "metadata": {},
     "output_type": "execute_result"
    }
   ],
   "source": [
    "G.groupby(['features']).sum().reset_index().sort_values('score', ascending=True).head(10)"
   ]
  },
  {
   "cell_type": "code",
   "execution_count": null,
   "id": "030b5582",
   "metadata": {},
   "outputs": [
    {
     "data": {
      "text/html": [
       "<div>\n",
       "<style scoped>\n",
       "    .dataframe tbody tr th:only-of-type {\n",
       "        vertical-align: middle;\n",
       "    }\n",
       "\n",
       "    .dataframe tbody tr th {\n",
       "        vertical-align: top;\n",
       "    }\n",
       "\n",
       "    .dataframe thead th {\n",
       "        text-align: right;\n",
       "    }\n",
       "</style>\n",
       "<table border=\"1\" class=\"dataframe\">\n",
       "  <thead>\n",
       "    <tr style=\"text-align: right;\">\n",
       "      <th></th>\n",
       "      <th>features</th>\n",
       "      <th>item</th>\n",
       "      <th>score</th>\n",
       "    </tr>\n",
       "  </thead>\n",
       "  <tbody>\n",
       "    <tr>\n",
       "      <th>2904</th>\n",
       "      <td>adjnoun: friendly staff</td>\n",
       "      <td>393070</td>\n",
       "      <td>2.740807</td>\n",
       "    </tr>\n",
       "    <tr>\n",
       "      <th>3234</th>\n",
       "      <td>adjnoun: good food</td>\n",
       "      <td>716645</td>\n",
       "      <td>1.734657</td>\n",
       "    </tr>\n",
       "    <tr>\n",
       "      <th>3615</th>\n",
       "      <td>adjnoun: great place</td>\n",
       "      <td>183364</td>\n",
       "      <td>1.709225</td>\n",
       "    </tr>\n",
       "    <tr>\n",
       "      <th>3652</th>\n",
       "      <td>adjnoun: great service</td>\n",
       "      <td>488040</td>\n",
       "      <td>1.659032</td>\n",
       "    </tr>\n",
       "    <tr>\n",
       "      <th>3372</th>\n",
       "      <td>adjnoun: good service</td>\n",
       "      <td>274240</td>\n",
       "      <td>1.075457</td>\n",
       "    </tr>\n",
       "    <tr>\n",
       "      <th>3545</th>\n",
       "      <td>adjnoun: great food</td>\n",
       "      <td>349635</td>\n",
       "      <td>1.049726</td>\n",
       "    </tr>\n",
       "    <tr>\n",
       "      <th>1641</th>\n",
       "      <td>adjnoun: delicious food</td>\n",
       "      <td>125968</td>\n",
       "      <td>0.894304</td>\n",
       "    </tr>\n",
       "    <tr>\n",
       "      <th>611</th>\n",
       "      <td>adjnoun: bad service</td>\n",
       "      <td>64084</td>\n",
       "      <td>0.832020</td>\n",
       "    </tr>\n",
       "    <tr>\n",
       "      <th>572</th>\n",
       "      <td>adjnoun: bad experience</td>\n",
       "      <td>119630</td>\n",
       "      <td>0.754331</td>\n",
       "    </tr>\n",
       "    <tr>\n",
       "      <th>8065</th>\n",
       "      <td>adjnoun: terrible service</td>\n",
       "      <td>60952</td>\n",
       "      <td>0.716106</td>\n",
       "    </tr>\n",
       "  </tbody>\n",
       "</table>\n",
       "</div>"
      ],
      "text/plain": [
       "                       features    item     score\n",
       "2904    adjnoun: friendly staff  393070  2.740807\n",
       "3234         adjnoun: good food  716645  1.734657\n",
       "3615       adjnoun: great place  183364  1.709225\n",
       "3652     adjnoun: great service  488040  1.659032\n",
       "3372      adjnoun: good service  274240  1.075457\n",
       "3545        adjnoun: great food  349635  1.049726\n",
       "1641    adjnoun: delicious food  125968  0.894304\n",
       "611        adjnoun: bad service   64084  0.832020\n",
       "572     adjnoun: bad experience  119630  0.754331\n",
       "8065  adjnoun: terrible service   60952  0.716106"
      ]
     },
     "execution_count": 219,
     "metadata": {},
     "output_type": "execute_result"
    }
   ],
   "source": [
    "G.groupby(['features']).sum().reset_index().sort_values('score', ascending=False).head(10)"
   ]
  },
  {
   "cell_type": "code",
   "execution_count": null,
   "id": "33d06933",
   "metadata": {},
   "outputs": [],
   "source": []
  }
 ],
 "metadata": {
  "kernelspec": {
   "display_name": "Python 3 (ipykernel)",
   "language": "python",
   "name": "python3"
  },
  "language_info": {
   "codemirror_mode": {
    "name": "ipython",
    "version": 3
   },
   "file_extension": ".py",
   "mimetype": "text/x-python",
   "name": "python",
   "nbconvert_exporter": "python",
   "pygments_lexer": "ipython3",
   "version": "3.8.10"
  },
  "toc": {
   "base_numbering": 1,
   "nav_menu": {},
   "number_sections": true,
   "sideBar": true,
   "skip_h1_title": false,
   "title_cell": "Table of Contents",
   "title_sidebar": "Contents",
   "toc_cell": false,
   "toc_position": {},
   "toc_section_display": true,
   "toc_window_display": false
  }
 },
 "nbformat": 4,
 "nbformat_minor": 5
}
